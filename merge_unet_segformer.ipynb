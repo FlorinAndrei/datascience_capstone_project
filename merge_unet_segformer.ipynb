{
 "cells": [
  {
   "cell_type": "code",
   "execution_count": 1,
   "metadata": {},
   "outputs": [],
   "source": [
    "import PIL\n",
    "from PIL import Image, ImageOps, ImageDraw\n",
    "import os\n",
    "import numpy as np\n",
    "from tqdm.notebook import tqdm\n",
    "import subprocess\n",
    "import multiprocess\n",
    "from multiprocess import Pool\n",
    "import math\n",
    "import seaborn as sns\n",
    "import plotly.express as px\n",
    "\n",
    "from bus_data import *\n"
   ]
  },
  {
   "cell_type": "code",
   "execution_count": 2,
   "metadata": {},
   "outputs": [],
   "source": [
    "if os.uname()[1] == \"media\":\n",
    "    # Florin's gaming PC\n",
    "    data_volume = \"/home/florin/data\"\n",
    "else:\n",
    "    # Google Colab\n",
    "    from google.colab import drive\n",
    "\n",
    "    gdrive_path = \"/content/gdrive\"\n",
    "    drive.mount(gdrive_path, force_remount=False)\n",
    "    data_volume = gdrive_path + \"/MyDrive\"\n"
   ]
  },
  {
   "cell_type": "code",
   "execution_count": 3,
   "metadata": {},
   "outputs": [
    {
     "data": {
      "text/html": [
       "<div>\n",
       "<style scoped>\n",
       "    .dataframe tbody tr th:only-of-type {\n",
       "        vertical-align: middle;\n",
       "    }\n",
       "\n",
       "    .dataframe tbody tr th {\n",
       "        vertical-align: top;\n",
       "    }\n",
       "\n",
       "    .dataframe thead th {\n",
       "        text-align: right;\n",
       "    }\n",
       "</style>\n",
       "<table border=\"1\" class=\"dataframe\">\n",
       "  <thead>\n",
       "    <tr style=\"text-align: right;\">\n",
       "      <th></th>\n",
       "      <th>dataset</th>\n",
       "      <th>class</th>\n",
       "      <th>video</th>\n",
       "      <th>image</th>\n",
       "      <th>str_index</th>\n",
       "    </tr>\n",
       "  </thead>\n",
       "  <tbody>\n",
       "    <tr>\n",
       "      <th>0</th>\n",
       "      <td>BUV_dataset</td>\n",
       "      <td>benign</td>\n",
       "      <td>263b86b85a58f270</td>\n",
       "      <td>/home/florin/data/BUS Project Home/Datasets/BUV_dataset/rawframes/benign/263b86b85a58f270/000000.png</td>\n",
       "      <td>00000</td>\n",
       "    </tr>\n",
       "    <tr>\n",
       "      <th>1</th>\n",
       "      <td>BUV_dataset</td>\n",
       "      <td>benign</td>\n",
       "      <td>263b86b85a58f270</td>\n",
       "      <td>/home/florin/data/BUS Project Home/Datasets/BUV_dataset/rawframes/benign/263b86b85a58f270/000001.png</td>\n",
       "      <td>00001</td>\n",
       "    </tr>\n",
       "    <tr>\n",
       "      <th>2</th>\n",
       "      <td>BUV_dataset</td>\n",
       "      <td>benign</td>\n",
       "      <td>263b86b85a58f270</td>\n",
       "      <td>/home/florin/data/BUS Project Home/Datasets/BUV_dataset/rawframes/benign/263b86b85a58f270/000002.png</td>\n",
       "      <td>00002</td>\n",
       "    </tr>\n",
       "    <tr>\n",
       "      <th>3</th>\n",
       "      <td>BUV_dataset</td>\n",
       "      <td>benign</td>\n",
       "      <td>263b86b85a58f270</td>\n",
       "      <td>/home/florin/data/BUS Project Home/Datasets/BUV_dataset/rawframes/benign/263b86b85a58f270/000003.png</td>\n",
       "      <td>00003</td>\n",
       "    </tr>\n",
       "    <tr>\n",
       "      <th>4</th>\n",
       "      <td>BUV_dataset</td>\n",
       "      <td>benign</td>\n",
       "      <td>263b86b85a58f270</td>\n",
       "      <td>/home/florin/data/BUS Project Home/Datasets/BUV_dataset/rawframes/benign/263b86b85a58f270/000004.png</td>\n",
       "      <td>00004</td>\n",
       "    </tr>\n",
       "    <tr>\n",
       "      <th>...</th>\n",
       "      <td>...</td>\n",
       "      <td>...</td>\n",
       "      <td>...</td>\n",
       "      <td>...</td>\n",
       "      <td>...</td>\n",
       "    </tr>\n",
       "    <tr>\n",
       "      <th>25267</th>\n",
       "      <td>BUV_dataset</td>\n",
       "      <td>malignant</td>\n",
       "      <td>xf7f83b2a576016b</td>\n",
       "      <td>/home/florin/data/BUS Project Home/Datasets/BUV_dataset/rawframes/malignant/xf7f83b2a576016b/000186.png</td>\n",
       "      <td>25267</td>\n",
       "    </tr>\n",
       "    <tr>\n",
       "      <th>25268</th>\n",
       "      <td>BUV_dataset</td>\n",
       "      <td>malignant</td>\n",
       "      <td>xf7f83b2a576016b</td>\n",
       "      <td>/home/florin/data/BUS Project Home/Datasets/BUV_dataset/rawframes/malignant/xf7f83b2a576016b/000187.png</td>\n",
       "      <td>25268</td>\n",
       "    </tr>\n",
       "    <tr>\n",
       "      <th>25269</th>\n",
       "      <td>BUV_dataset</td>\n",
       "      <td>malignant</td>\n",
       "      <td>xf7f83b2a576016b</td>\n",
       "      <td>/home/florin/data/BUS Project Home/Datasets/BUV_dataset/rawframes/malignant/xf7f83b2a576016b/000188.png</td>\n",
       "      <td>25269</td>\n",
       "    </tr>\n",
       "    <tr>\n",
       "      <th>25270</th>\n",
       "      <td>BUV_dataset</td>\n",
       "      <td>malignant</td>\n",
       "      <td>xf7f83b2a576016b</td>\n",
       "      <td>/home/florin/data/BUS Project Home/Datasets/BUV_dataset/rawframes/malignant/xf7f83b2a576016b/000189.png</td>\n",
       "      <td>25270</td>\n",
       "    </tr>\n",
       "    <tr>\n",
       "      <th>25271</th>\n",
       "      <td>BUV_dataset</td>\n",
       "      <td>malignant</td>\n",
       "      <td>xf7f83b2a576016b</td>\n",
       "      <td>/home/florin/data/BUS Project Home/Datasets/BUV_dataset/rawframes/malignant/xf7f83b2a576016b/000190.png</td>\n",
       "      <td>25271</td>\n",
       "    </tr>\n",
       "  </tbody>\n",
       "</table>\n",
       "<p>25272 rows × 5 columns</p>\n",
       "</div>"
      ],
      "text/plain": [
       "           dataset      class             video  \\\n",
       "0      BUV_dataset     benign  263b86b85a58f270   \n",
       "1      BUV_dataset     benign  263b86b85a58f270   \n",
       "2      BUV_dataset     benign  263b86b85a58f270   \n",
       "3      BUV_dataset     benign  263b86b85a58f270   \n",
       "4      BUV_dataset     benign  263b86b85a58f270   \n",
       "...            ...        ...               ...   \n",
       "25267  BUV_dataset  malignant  xf7f83b2a576016b   \n",
       "25268  BUV_dataset  malignant  xf7f83b2a576016b   \n",
       "25269  BUV_dataset  malignant  xf7f83b2a576016b   \n",
       "25270  BUV_dataset  malignant  xf7f83b2a576016b   \n",
       "25271  BUV_dataset  malignant  xf7f83b2a576016b   \n",
       "\n",
       "                                                                                                         image  \\\n",
       "0         /home/florin/data/BUS Project Home/Datasets/BUV_dataset/rawframes/benign/263b86b85a58f270/000000.png   \n",
       "1         /home/florin/data/BUS Project Home/Datasets/BUV_dataset/rawframes/benign/263b86b85a58f270/000001.png   \n",
       "2         /home/florin/data/BUS Project Home/Datasets/BUV_dataset/rawframes/benign/263b86b85a58f270/000002.png   \n",
       "3         /home/florin/data/BUS Project Home/Datasets/BUV_dataset/rawframes/benign/263b86b85a58f270/000003.png   \n",
       "4         /home/florin/data/BUS Project Home/Datasets/BUV_dataset/rawframes/benign/263b86b85a58f270/000004.png   \n",
       "...                                                                                                        ...   \n",
       "25267  /home/florin/data/BUS Project Home/Datasets/BUV_dataset/rawframes/malignant/xf7f83b2a576016b/000186.png   \n",
       "25268  /home/florin/data/BUS Project Home/Datasets/BUV_dataset/rawframes/malignant/xf7f83b2a576016b/000187.png   \n",
       "25269  /home/florin/data/BUS Project Home/Datasets/BUV_dataset/rawframes/malignant/xf7f83b2a576016b/000188.png   \n",
       "25270  /home/florin/data/BUS Project Home/Datasets/BUV_dataset/rawframes/malignant/xf7f83b2a576016b/000189.png   \n",
       "25271  /home/florin/data/BUS Project Home/Datasets/BUV_dataset/rawframes/malignant/xf7f83b2a576016b/000190.png   \n",
       "\n",
       "      str_index  \n",
       "0         00000  \n",
       "1         00001  \n",
       "2         00002  \n",
       "3         00003  \n",
       "4         00004  \n",
       "...         ...  \n",
       "25267     25267  \n",
       "25268     25268  \n",
       "25269     25269  \n",
       "25270     25270  \n",
       "25271     25271  \n",
       "\n",
       "[25272 rows x 5 columns]"
      ]
     },
     "execution_count": 3,
     "metadata": {},
     "output_type": "execute_result"
    }
   ],
   "source": [
    "buv_df = buv_dataset_make(data_volume)\n",
    "buv_df\n"
   ]
  },
  {
   "cell_type": "code",
   "execution_count": 4,
   "metadata": {},
   "outputs": [],
   "source": [
    "basedir = \"frames\"\n",
    "sfdir = basedir + \"/masks_segformer\"\n",
    "unetdir = basedir + \"/masks_unet\"\n",
    "outdir = basedir + \"/video\"\n",
    "\n",
    "shutil.rmtree(outdir, ignore_errors=True)\n",
    "os.makedirs(outdir, exist_ok=True)\n"
   ]
  },
  {
   "cell_type": "code",
   "execution_count": 5,
   "metadata": {},
   "outputs": [],
   "source": [
    "def eval_performance(src_df):\n",
    "    pixel_pred = pd.DataFrame(\n",
    "        [[0, 0, 0], [0, 0, 0]],\n",
    "        index=[\"unet\", \"segformer\"],\n",
    "        columns=[\"benign\", \"malignant\", \"total\"],\n",
    "    )\n",
    "    first_index = src_df.index.to_list()[0]\n",
    "    video_id = src_df.loc[first_index, \"video\"]\n",
    "    video_class = src_df.loc[first_index, \"class\"]\n",
    "\n",
    "    for _, row in src_df.iterrows():\n",
    "        arr_unet = np.array(\n",
    "            Image.open(unetdir + \"/f\" + row[\"str_index\"] + \".png\")\n",
    "        ).astype(np.uint8)\n",
    "        pixel_pred.loc[\"unet\", \"total\"] += (arr_unet != 0).sum()\n",
    "        pixel_pred.loc[\"unet\", \"benign\"] += (arr_unet == 1).sum()\n",
    "        pixel_pred.loc[\"unet\", \"malignant\"] += (arr_unet == 2).sum()\n",
    "\n",
    "        arr_sf = np.array(Image.open(sfdir + \"/f\" + row[\"str_index\"] + \".png\")).astype(\n",
    "            np.uint8\n",
    "        )\n",
    "        pixel_pred.loc[\"segformer\", \"total\"] += (arr_sf != 0).sum()\n",
    "        pixel_pred.loc[\"segformer\", \"benign\"] += (arr_sf == 1).sum()\n",
    "        pixel_pred.loc[\"segformer\", \"malignant\"] += (arr_sf == 2).sum()\n",
    "\n",
    "    unet_pred = pixel_pred.loc[\"unet\", video_class]\n",
    "    unet_total = pixel_pred.loc[\"unet\", \"total\"]\n",
    "    sf_pred = pixel_pred.loc[\"segformer\", video_class]\n",
    "    sf_total = pixel_pred.loc[\"segformer\", \"total\"]\n",
    "\n",
    "    return (\n",
    "        video_id,\n",
    "        unet_pred,\n",
    "        unet_total,\n",
    "        sf_pred,\n",
    "        sf_total,\n",
    "        video_class,\n",
    "    )\n",
    "\n",
    "\n",
    "def process_img_mask(func_input):\n",
    "    src_df, perf_metrics = func_input\n",
    "    img_size = 256\n",
    "    img_size2 = 2 * img_size\n",
    "    img_size3 = 3 * img_size\n",
    "\n",
    "    for _, row in src_df.iterrows():\n",
    "        img = (\n",
    "            Image.open(row[\"image\"])\n",
    "            .resize((img_size, img_size), resample=PIL.Image.Resampling.BILINEAR)\n",
    "            .convert(mode=\"RGB\")\n",
    "        )\n",
    "        mask_unet = Image.open(unetdir + \"/f\" + row[\"str_index\"] + \".png\").resize(\n",
    "            (img_size, img_size), resample=PIL.Image.Resampling.BILINEAR\n",
    "        )\n",
    "        mask_sf = Image.open(sfdir + \"/f\" + row[\"str_index\"] + \".png\").resize(\n",
    "            (img_size, img_size), resample=PIL.Image.Resampling.BILINEAR\n",
    "        )\n",
    "\n",
    "        mask_col_unet = ImageOps.colorize(\n",
    "            mask_unet,\n",
    "            black=(0, 0, 127),\n",
    "            white=(255, 127, 127),\n",
    "            mid=(127, 255, 127),\n",
    "            blackpoint=0,\n",
    "            whitepoint=2,\n",
    "            midpoint=1,\n",
    "        )\n",
    "\n",
    "        mask_col_sf = ImageOps.colorize(\n",
    "            mask_sf,\n",
    "            black=(0, 0, 127),\n",
    "            white=(255, 127, 127),\n",
    "            mid=(127, 255, 127),\n",
    "            blackpoint=0,\n",
    "            whitepoint=2,\n",
    "            midpoint=1,\n",
    "        )\n",
    "\n",
    "        blend_unet = Image.blend(img, mask_col_unet, 0.2)\n",
    "        blend_sf = Image.blend(img, mask_col_sf, 0.2)\n",
    "\n",
    "        img_text = row[\"class\"]\n",
    "        if img_text == \"benign\":\n",
    "            img_text_color = (127, 255, 127)\n",
    "        elif img_text == \"malignant\":\n",
    "            img_text_color = (255, 127, 127)\n",
    "        else:\n",
    "            img_text_color = (255, 255, 255)\n",
    "\n",
    "        draw_img = ImageDraw.Draw(img)\n",
    "        draw_img.text(xy=(2, img_size - 12), text=img_text, fill=img_text_color)\n",
    "        draw_img.text(xy=(2, 0), text=\"id=\" + row[\"video\"], fill=(255, 255, 255))\n",
    "\n",
    "        draw_unet = ImageDraw.Draw(blend_unet)\n",
    "        draw_unet.text(\n",
    "            xy=(2, img_size - 12),\n",
    "            text=\"perf=\" + str(perf_metrics[0]),\n",
    "            fill=img_text_color,\n",
    "        )\n",
    "        draw_unet.text(xy=(2, 0), text=\"U-Net / ResNet34\", fill=(255, 255, 255))\n",
    "\n",
    "        draw_sf = ImageDraw.Draw(blend_sf)\n",
    "        draw_sf.text(\n",
    "            xy=(2, img_size - 12),\n",
    "            text=\"perf=\" + str(perf_metrics[1]),\n",
    "            fill=img_text_color,\n",
    "        )\n",
    "        draw_sf.text(xy=(2, 0), text=\"SegFormer MiT-b3\", fill=(255, 255, 255))\n",
    "\n",
    "        final_frame = Image.new(mode=\"RGB\", size=(img_size3, img_size))\n",
    "        final_frame.paste(img, (0, 0))\n",
    "        final_frame.paste(blend_unet, (img_size, 0))\n",
    "        final_frame.paste(blend_sf, (img_size2, 0))\n",
    "        final_frame.save(outdir + \"/f\" + row[\"str_index\"] + \".png\", format=\"png\")\n"
   ]
  },
  {
   "cell_type": "code",
   "execution_count": 6,
   "metadata": {},
   "outputs": [
    {
     "data": {
      "application/vnd.jupyter.widget-view+json": {
       "model_id": "a7ba950f6a384d31aba67581a718d793",
       "version_major": 2,
       "version_minor": 0
      },
      "text/plain": [
       "performance evaluation:   0%|          | 0/16 [00:00<?, ?it/s]"
      ]
     },
     "metadata": {},
     "output_type": "display_data"
    },
    {
     "data": {
      "application/vnd.jupyter.widget-view+json": {
       "model_id": "16509703b0d447f2954398184c5679bc",
       "version_major": 2,
       "version_minor": 0
      },
      "text/plain": [
       "create video frames:   0%|          | 0/186 [00:00<?, ?it/s]"
      ]
     },
     "metadata": {},
     "output_type": "display_data"
    }
   ],
   "source": [
    "if __name__ == \"__main__\":\n",
    "    n_cpu = multiprocess.cpu_count()\n",
    "    p = Pool(processes=n_cpu)\n",
    "    video_list = buv_df[\"video\"].unique()\n",
    "    perf_results = []\n",
    "    for i in tqdm(\n",
    "        list(range(0, len(video_list), n_cpu)), desc=\"performance evaluation\"\n",
    "    ):\n",
    "        video_to_measure = []\n",
    "        for v in range(i, i + n_cpu):\n",
    "            if v >= len(video_list):\n",
    "                break\n",
    "            vid_df = buv_df[buv_df[\"video\"] == video_list[v]]\n",
    "            vid_df.reset_index(inplace=True)\n",
    "            video_to_measure.append(vid_df)\n",
    "        work_out = p.map(eval_performance, video_to_measure)\n",
    "        perf_results += work_out\n",
    "\n",
    "    for v in tqdm(video_list, desc=\"create video frames\"):\n",
    "        vid_df = buv_df[buv_df[\"video\"] == v]\n",
    "        vid_df.reset_index(inplace=True)\n",
    "        df_step = math.ceil(len(vid_df) / n_cpu)\n",
    "        perf_metrics = (0, 0)\n",
    "        for r in perf_results:\n",
    "            if r[0] == v:\n",
    "                perf_metrics = (round(r[1], 4), round(r[2], 4))\n",
    "        index_ranges = []\n",
    "        for start in range(0, len(vid_df), df_step):\n",
    "            index_ranges.append((vid_df.iloc[start : start + df_step], perf_metrics))\n",
    "        p.map(process_img_mask, index_ranges)\n",
    "\n",
    "    p.close()\n"
   ]
  },
  {
   "cell_type": "code",
   "execution_count": 7,
   "metadata": {},
   "outputs": [
    {
     "name": "stderr",
     "output_type": "stream",
     "text": [
      "y4m [info]: 768x256p 1:1 @ 25/1 fps (cfr)\n",
      "x264 [info]: using SAR=1/1\n",
      "x264 [info]: using cpu capabilities: MMX2 SSE2Fast SSSE3 SSE4.2 AVX FMA3 BMI2 AVX2\n",
      "x264 [info]: profile High, level 2.1, 4:2:0, 8-bit\n",
      "x264 [info]: frame I:294   Avg QP:18.16  size: 40214                           \n",
      "x264 [info]: frame P:19650 Avg QP:20.95  size: 14551\n",
      "x264 [info]: frame B:5328  Avg QP:23.86  size:  6388\n",
      "x264 [info]: consecutive B-frames: 70.5%  3.0%  3.3% 23.2%\n",
      "x264 [info]: mb I  I16..4:  0.7% 71.3% 28.0%\n",
      "x264 [info]: mb P  I16..4:  0.0%  4.4%  1.5%  P16..4: 40.5% 31.3% 20.1%  0.0%  0.0%    skip: 2.1%\n",
      "x264 [info]: mb B  I16..4:  0.0%  0.9%  0.9%  B16..8: 18.3%  4.6%  4.2%  direct:35.1%  skip:36.0%  L0:35.2% L1:34.3% BI:30.6%\n",
      "x264 [info]: 8x8 transform intra:72.1% inter:56.4%\n",
      "x264 [info]: coded y,uvDC,uvAC intra: 96.7% 14.3% 12.3% inter: 80.1% 3.3% 1.8%\n",
      "x264 [info]: i16 v,h,dc,p: 52% 21% 20%  8%\n",
      "x264 [info]: i8 v,h,dc,ddl,ddr,vr,hd,vl,hu:  5% 31% 11%  6%  7%  4% 14%  5% 17%\n",
      "x264 [info]: i4 v,h,dc,ddl,ddr,vr,hd,vl,hu:  7% 26% 10%  7%  9%  5% 16%  5% 16%\n",
      "x264 [info]: i8c dc,h,v,p: 86%  7%  6%  1%\n",
      "x264 [info]: Weighted P-Frames: Y:8.9% UV:0.2%\n",
      "x264 [info]: ref P L0: 64.9% 32.0%  2.4%  0.6%  0.1%\n",
      "x264 [info]: ref B L0: 95.8%  3.1%  1.1%\n",
      "x264 [info]: ref B L1: 99.4%  0.6%\n",
      "x264 [info]: kb/s:2625.72\n",
      "\n",
      "encoded 25272 frames, 305.19 fps, 2625.72 kb/s\n",
      "\u001b[32mTrack Importing MPEG-4 AVC - Width 768 Height 256 FPS 30/1 SAR 1/1\n",
      "\u001b[32mAVC|H264 Import results: 25272 samples (25811 NALUs) - Slices: 294 I 19650 P 5328 B - 1 SEI - 269 IDR - 0 CRA\n",
      "\u001b[0m\u001b[32mAVC|H264 Stream uses forward prediction - stream CTS offset: 3 frames\n",
      "\u001b[0m\u001b[32mAVC|H264 Max NALU size is 56953 - stream could be optimized by setting nal_length=2\n",
      "\u001b[0m\u001b[37mSaving video-20221205-195121.mp4: \u001b[0m\u001b[37m0.500 secs Interleaving\n",
      "                                                        \r"
     ]
    },
    {
     "data": {
      "text/plain": [
       "CompletedProcess(args='./make_video.sh', returncode=0)"
      ]
     },
     "execution_count": 7,
     "metadata": {},
     "output_type": "execute_result"
    }
   ],
   "source": [
    "subprocess.run(\"./make_video.sh\")\n"
   ]
  },
  {
   "cell_type": "code",
   "execution_count": 8,
   "metadata": {},
   "outputs": [
    {
     "data": {
      "text/html": [
       "<div>\n",
       "<style scoped>\n",
       "    .dataframe tbody tr th:only-of-type {\n",
       "        vertical-align: middle;\n",
       "    }\n",
       "\n",
       "    .dataframe tbody tr th {\n",
       "        vertical-align: top;\n",
       "    }\n",
       "\n",
       "    .dataframe thead th {\n",
       "        text-align: right;\n",
       "    }\n",
       "</style>\n",
       "<table border=\"1\" class=\"dataframe\">\n",
       "  <thead>\n",
       "    <tr style=\"text-align: right;\">\n",
       "      <th></th>\n",
       "      <th>video</th>\n",
       "      <th>unet_pred</th>\n",
       "      <th>unet_total</th>\n",
       "      <th>segformer_pred</th>\n",
       "      <th>segformer_total</th>\n",
       "      <th>class</th>\n",
       "      <th>unet</th>\n",
       "      <th>segformer</th>\n",
       "    </tr>\n",
       "  </thead>\n",
       "  <tbody>\n",
       "    <tr>\n",
       "      <th>0</th>\n",
       "      <td>263b86b85a58f270</td>\n",
       "      <td>209231</td>\n",
       "      <td>242432</td>\n",
       "      <td>1261203</td>\n",
       "      <td>1261203</td>\n",
       "      <td>benign</td>\n",
       "      <td>0.863050</td>\n",
       "      <td>1.000000</td>\n",
       "    </tr>\n",
       "    <tr>\n",
       "      <th>1</th>\n",
       "      <td>2cda21c3aab26332</td>\n",
       "      <td>62973</td>\n",
       "      <td>660411</td>\n",
       "      <td>438776</td>\n",
       "      <td>3466823</td>\n",
       "      <td>benign</td>\n",
       "      <td>0.095354</td>\n",
       "      <td>0.126564</td>\n",
       "    </tr>\n",
       "    <tr>\n",
       "      <th>2</th>\n",
       "      <td>32a6532065f51cec</td>\n",
       "      <td>725739</td>\n",
       "      <td>817660</td>\n",
       "      <td>4144535</td>\n",
       "      <td>4164626</td>\n",
       "      <td>benign</td>\n",
       "      <td>0.887580</td>\n",
       "      <td>0.995176</td>\n",
       "    </tr>\n",
       "    <tr>\n",
       "      <th>3</th>\n",
       "      <td>391ae00452fe2e99</td>\n",
       "      <td>20557</td>\n",
       "      <td>237485</td>\n",
       "      <td>214091</td>\n",
       "      <td>908546</td>\n",
       "      <td>benign</td>\n",
       "      <td>0.086561</td>\n",
       "      <td>0.235641</td>\n",
       "    </tr>\n",
       "    <tr>\n",
       "      <th>4</th>\n",
       "      <td>4414661bcb60d5cf</td>\n",
       "      <td>35194</td>\n",
       "      <td>37915</td>\n",
       "      <td>207514</td>\n",
       "      <td>207514</td>\n",
       "      <td>benign</td>\n",
       "      <td>0.928234</td>\n",
       "      <td>1.000000</td>\n",
       "    </tr>\n",
       "    <tr>\n",
       "      <th>...</th>\n",
       "      <td>...</td>\n",
       "      <td>...</td>\n",
       "      <td>...</td>\n",
       "      <td>...</td>\n",
       "      <td>...</td>\n",
       "      <td>...</td>\n",
       "      <td>...</td>\n",
       "      <td>...</td>\n",
       "    </tr>\n",
       "    <tr>\n",
       "      <th>181</th>\n",
       "      <td>x9c1c965d274c457</td>\n",
       "      <td>895589</td>\n",
       "      <td>912003</td>\n",
       "      <td>4733823</td>\n",
       "      <td>6181461</td>\n",
       "      <td>malignant</td>\n",
       "      <td>0.982002</td>\n",
       "      <td>0.765810</td>\n",
       "    </tr>\n",
       "    <tr>\n",
       "      <th>182</th>\n",
       "      <td>xb60099fde76c0ea</td>\n",
       "      <td>2551537</td>\n",
       "      <td>2876927</td>\n",
       "      <td>13281628</td>\n",
       "      <td>15652084</td>\n",
       "      <td>malignant</td>\n",
       "      <td>0.886897</td>\n",
       "      <td>0.848553</td>\n",
       "    </tr>\n",
       "    <tr>\n",
       "      <th>183</th>\n",
       "      <td>xc92f65176f4b7a7</td>\n",
       "      <td>1223961</td>\n",
       "      <td>1262357</td>\n",
       "      <td>6563842</td>\n",
       "      <td>8020740</td>\n",
       "      <td>malignant</td>\n",
       "      <td>0.969584</td>\n",
       "      <td>0.818359</td>\n",
       "    </tr>\n",
       "    <tr>\n",
       "      <th>184</th>\n",
       "      <td>xe60a9301eb8c62f</td>\n",
       "      <td>620402</td>\n",
       "      <td>633248</td>\n",
       "      <td>3414556</td>\n",
       "      <td>3423733</td>\n",
       "      <td>malignant</td>\n",
       "      <td>0.979714</td>\n",
       "      <td>0.997320</td>\n",
       "    </tr>\n",
       "    <tr>\n",
       "      <th>185</th>\n",
       "      <td>xf7f83b2a576016b</td>\n",
       "      <td>438346</td>\n",
       "      <td>657152</td>\n",
       "      <td>2789045</td>\n",
       "      <td>3629001</td>\n",
       "      <td>malignant</td>\n",
       "      <td>0.667039</td>\n",
       "      <td>0.768543</td>\n",
       "    </tr>\n",
       "  </tbody>\n",
       "</table>\n",
       "<p>186 rows × 8 columns</p>\n",
       "</div>"
      ],
      "text/plain": [
       "                video  unet_pred  unet_total  segformer_pred  segformer_total  \\\n",
       "0    263b86b85a58f270     209231      242432         1261203          1261203   \n",
       "1    2cda21c3aab26332      62973      660411          438776          3466823   \n",
       "2    32a6532065f51cec     725739      817660         4144535          4164626   \n",
       "3    391ae00452fe2e99      20557      237485          214091           908546   \n",
       "4    4414661bcb60d5cf      35194       37915          207514           207514   \n",
       "..                ...        ...         ...             ...              ...   \n",
       "181  x9c1c965d274c457     895589      912003         4733823          6181461   \n",
       "182  xb60099fde76c0ea    2551537     2876927        13281628         15652084   \n",
       "183  xc92f65176f4b7a7    1223961     1262357         6563842          8020740   \n",
       "184  xe60a9301eb8c62f     620402      633248         3414556          3423733   \n",
       "185  xf7f83b2a576016b     438346      657152         2789045          3629001   \n",
       "\n",
       "         class      unet  segformer  \n",
       "0       benign  0.863050   1.000000  \n",
       "1       benign  0.095354   0.126564  \n",
       "2       benign  0.887580   0.995176  \n",
       "3       benign  0.086561   0.235641  \n",
       "4       benign  0.928234   1.000000  \n",
       "..         ...       ...        ...  \n",
       "181  malignant  0.982002   0.765810  \n",
       "182  malignant  0.886897   0.848553  \n",
       "183  malignant  0.969584   0.818359  \n",
       "184  malignant  0.979714   0.997320  \n",
       "185  malignant  0.667039   0.768543  \n",
       "\n",
       "[186 rows x 8 columns]"
      ]
     },
     "execution_count": 8,
     "metadata": {},
     "output_type": "execute_result"
    }
   ],
   "source": [
    "perf_df = pd.DataFrame(\n",
    "    perf_results,\n",
    "    columns=[\n",
    "        \"video\",\n",
    "        \"unet_pred\",\n",
    "        \"unet_total\",\n",
    "        \"segformer_pred\",\n",
    "        \"segformer_total\",\n",
    "        \"class\",\n",
    "    ],\n",
    ")\n",
    "\n",
    "perf_df[\"unet\"] = perf_df[\"unet_pred\"] / perf_df[\"unet_total\"]\n",
    "perf_df[\"segformer\"] = perf_df[\"segformer_pred\"] / perf_df[\"segformer_total\"]\n",
    "perf_df.to_csv(basedir + \"/perf_results.csv\", index=False)\n",
    "\n",
    "perf_df\n"
   ]
  },
  {
   "cell_type": "code",
   "execution_count": 9,
   "metadata": {},
   "outputs": [],
   "source": [
    "perf_df = pd.read_csv(basedir + \"/perf_results.csv\")\n"
   ]
  },
  {
   "cell_type": "code",
   "execution_count": 10,
   "metadata": {},
   "outputs": [
    {
     "data": {
      "text/html": [
       "<div>\n",
       "<style scoped>\n",
       "    .dataframe tbody tr th:only-of-type {\n",
       "        vertical-align: middle;\n",
       "    }\n",
       "\n",
       "    .dataframe tbody tr th {\n",
       "        vertical-align: top;\n",
       "    }\n",
       "\n",
       "    .dataframe thead th {\n",
       "        text-align: right;\n",
       "    }\n",
       "</style>\n",
       "<table border=\"1\" class=\"dataframe\">\n",
       "  <thead>\n",
       "    <tr style=\"text-align: right;\">\n",
       "      <th></th>\n",
       "      <th>unet</th>\n",
       "      <th>segformer</th>\n",
       "    </tr>\n",
       "  </thead>\n",
       "  <tbody>\n",
       "    <tr>\n",
       "      <th>benign</th>\n",
       "      <td>0.345397</td>\n",
       "      <td>0.581847</td>\n",
       "    </tr>\n",
       "    <tr>\n",
       "      <th>malignant</th>\n",
       "      <td>0.905014</td>\n",
       "      <td>0.854745</td>\n",
       "    </tr>\n",
       "  </tbody>\n",
       "</table>\n",
       "</div>"
      ],
      "text/plain": [
       "               unet  segformer\n",
       "benign     0.345397   0.581847\n",
       "malignant  0.905014   0.854745"
      ]
     },
     "execution_count": 10,
     "metadata": {},
     "output_type": "execute_result"
    }
   ],
   "source": [
    "consistency_df = pd.DataFrame(\n",
    "    index=[\"benign\", \"malignant\"], columns=[\"unet\", \"segformer\"], dtype=np.float64\n",
    ")\n",
    "\n",
    "consistency_df.loc[\"benign\", \"unet\"] = (\n",
    "    perf_df[perf_df[\"class\"] == \"benign\"][\"unet_pred\"].sum()\n",
    "    / perf_df[perf_df[\"class\"] == \"benign\"][\"unet_total\"].sum()\n",
    ")\n",
    "consistency_df.loc[\"malignant\", \"unet\"] = (\n",
    "    perf_df[perf_df[\"class\"] == \"malignant\"][\"unet_pred\"].sum()\n",
    "    / perf_df[perf_df[\"class\"] == \"malignant\"][\"unet_total\"].sum()\n",
    ")\n",
    "\n",
    "consistency_df.loc[\"benign\", \"segformer\"] = (\n",
    "    perf_df[perf_df[\"class\"] == \"benign\"][\"segformer_pred\"].sum()\n",
    "    / perf_df[perf_df[\"class\"] == \"benign\"][\"segformer_total\"].sum()\n",
    ")\n",
    "consistency_df.loc[\"malignant\", \"segformer\"] = (\n",
    "    perf_df[perf_df[\"class\"] == \"malignant\"][\"segformer_pred\"].sum()\n",
    "    / perf_df[perf_df[\"class\"] == \"malignant\"][\"segformer_total\"].sum()\n",
    ")\n",
    "\n",
    "consistency_df\n"
   ]
  },
  {
   "cell_type": "code",
   "execution_count": 15,
   "metadata": {},
   "outputs": [
    {
     "data": {
      "image/png": "[encoded data removed]",
      "text/plain": [
       "<Figure size 640x480 with 2 Axes>"
      ]
     },
     "metadata": {},
     "output_type": "display_data"
    }
   ],
   "source": [
    "sns.heatmap(consistency_df);\n"
   ]
  },
  {
   "cell_type": "code",
   "execution_count": 16,
   "metadata": {},
   "outputs": [
    {
     "data": {
      "application/vnd.plotly.v1+json": {
       "config": {
        "plotlyServerURL": "https://plot.ly"
       },
       "data": [
        {
         "alignmentgroup": "True",
         "bingroup": "x",
         "hovertemplate": "variable=unet<br>value=%{x}<br>count=%{y}<extra></extra>",
         "legendgroup": "unet",
         "marker": {
          "color": "#636efa",
          "pattern": {
           "shape": ""
          }
         },
         "name": "unet",
         "nbinsx": 200,
         "offsetgroup": "unet",
         "orientation": "v",
         "showlegend": true,
         "type": "histogram",
         "x": [
          0.8630502573917634,
          0.0953542566674389,
          0.8875804123963505,
          0.0865612565004105,
          0.9282342080970593,
          0.0103971066820429,
          0.9450597064762843,
          0.1262462828985228,
          0.3676721083191386,
          0.3976472045451776,
          0.8763002268064806,
          0.7041544429758105,
          0.3539975336939167,
          0.0502392604676454,
          0.6495316879030661,
          0.1883559228281973,
          0.5393088487651425,
          0.9103475424304652,
          0.9231913706527805,
          0.4534834362121721,
          0.0983278796610583,
          0.3057365182772349,
          0.9810826919588485,
          0.1479880482136686,
          0.0028902522726366,
          0.4622178018501653,
          0.3715321942124486,
          0.0351423831411701,
          0.6681575452007265,
          0.1744949778600185,
          0.0167795594828943,
          0.1024014724552788,
          0,
          0.9768590175998038,
          0.1951788491446345,
          0.2497464036980808,
          0.3159329957148422,
          0.3812529356505401,
          0.0756247690239646,
          0.1014448927906559,
          0.2839520627315356,
          0.2103709311127933,
          0.7371636475342952,
          0.2003935269364642,
          0.5313888002043292,
          0.3045296607492577,
          0.6747311363612809,
          0.5681995288250216,
          0.1431171889084415,
          0.3941765565938553,
          0.2270359520639147,
          0.8397948972593926,
          0.1153559833651721,
          0.7928093462044756,
          0.9790330640459732,
          0.7664310422619943,
          0.179459193538238,
          0.5961511047754812,
          0.9826228490587828,
          0.0433502460859834,
          0.0189321461969145,
          0.5945464911777926,
          0.1804290028651816,
          0.0703875939519089,
          0.00004055602307637713,
          0.5935693461576796,
          0.4256890523862344,
          0.1434609444850849,
          0.0030254124897608,
          0.7783535918196829,
          0.0832637276463571,
          0.9606786356175884,
          0.8101581815126857,
          0.744362015711606,
          0.9943767111146128,
          0.9995524208143148,
          0.9952504713017596,
          0.8450590400933866,
          0.9693110630647754,
          0.0174025870761846,
          0.9860281690663432,
          0.5869930573617975,
          0.9258036292015532,
          0.9922521394362116,
          0.4898351762410218,
          0.9978902709897652,
          0.999752759343087,
          0.9960995182400064,
          0.9391377662863244,
          0.7720642322799128,
          0.8183049860958417,
          0.9140103076232508,
          0.3554285533980965,
          0.972302915195277,
          1,
          0.8356064633949005,
          0.7236221689727139,
          0.7635530519589709,
          0.9636900251266304,
          0.9865550701443258,
          0.9863397954156886,
          0.771168103295378,
          0.7699016509812003,
          0.9879211431177036,
          0.9971404406137984,
          0.8521260952764629,
          0.3960924888424651,
          0.9355357717472916,
          0.8132190484696583,
          0.998371285265684,
          0.9317904874550884,
          0.8899808026327818,
          1,
          0.9934833441944264,
          0.8307491702228544,
          0.8802780296013086,
          0.999919237803666,
          0.0156709295667112,
          0.598094161074888,
          0.8940818229500553,
          0.8765835399348597,
          0.0209669359540268,
          0.9221118738562496,
          0.9983592307143556,
          0.950427944042462,
          0.9682816574001666,
          0.9708178007243398,
          0.9966261654546698,
          0.345364522526831,
          0.9837431486518204,
          0.6459306501817549,
          0.7837342187560326,
          1,
          0.993286352551834,
          0.905149018948582,
          0.7962803632953536,
          0.9818816931811136,
          0.9639059386209644,
          0.9999989268348174,
          0.9993292141512904,
          0.9998398483538868,
          0.5838431412701257,
          1,
          0.8077653298585484,
          0.9968994309543868,
          0.8261035292941412,
          0.7009032545304483,
          0.9999433038586084,
          0.9992417840033008,
          0.9810678538030856,
          0.9968675715447072,
          0.9939352097004472,
          0.9953213180675844,
          0.7734680684563302,
          0.4848264918258644,
          0.9984763856901232,
          0.9616444233203923,
          1,
          0.9999855322504224,
          0.98411104732578,
          0.8502777795374353,
          0.7399624223153635,
          0.6703870479763818,
          0.9917646124223084,
          0.9067914844399464,
          0.9906364039933568,
          0.944332056072542,
          0.9954954048771002,
          0.362268411693402,
          0.9402970003151764,
          0.4212461331648932,
          0.8803112185339855,
          0.9505913077911834,
          0.0966810377626375,
          0.4040604812948108,
          0.1668185322772832,
          0.9115613976810768,
          1,
          0.2350144384785453,
          0.8926750408199557,
          0.8761695081587609,
          0.982002252185574,
          0.8868966782959734,
          0.9695838815802504,
          0.97971410884835,
          0.6670389803272302
         ],
         "xaxis": "x",
         "yaxis": "y"
        },
        {
         "alignmentgroup": "True",
         "bingroup": "x",
         "hovertemplate": "variable=segformer<br>value=%{x}<br>count=%{y}<extra></extra>",
         "legendgroup": "segformer",
         "marker": {
          "color": "#EF553B",
          "pattern": {
           "shape": ""
          }
         },
         "name": "segformer",
         "nbinsx": 200,
         "offsetgroup": "segformer",
         "orientation": "v",
         "showlegend": true,
         "type": "histogram",
         "x": [
          1,
          0.1265642924371968,
          0.9951757972984848,
          0.2356413434212467,
          1,
          0.0009716329989979,
          0.9912663492753416,
          0.3905245325665434,
          0.6198975533708759,
          0.6734270141148057,
          0.9999118922936154,
          0.9318114380091258,
          0.7269808182440921,
          0.553100169950861,
          0.9614986412259328,
          0.5815834912637317,
          0.9775658226819914,
          1,
          1,
          0.8626080645357327,
          0.0639232518479105,
          0.5007200808054478,
          0.9985745013746414,
          0.994255555068518,
          0.1671345814254611,
          0.8307724213037334,
          0.9945114329934642,
          0.6900255994964866,
          1,
          0.5245665051389943,
          0.2149178617253925,
          0.1452681346213409,
          0,
          0.9971833412291656,
          0.9991373589913736,
          0.0978145066578826,
          0.9317862196023784,
          0.922154060435551,
          0.5557985253107186,
          0.8677806442377413,
          0.5702179594327483,
          0.9883725811190864,
          0.969727109535837,
          0.2680137545642563,
          0.9985917315539824,
          0.3124892790868121,
          0.6606020586221083,
          0.9372144262675938,
          0.3463617916706473,
          0.6894385460942594,
          0.822067230030959,
          0.937953746987882,
          0.0702682311948413,
          0.9845183884176192,
          0.9942993276297007,
          0.9988054889046216,
          0.2069615766962849,
          0.9998526015820765,
          0.9976222359565994,
          1,
          0.2392408390082668,
          0.92926295982668,
          0.0327639008347189,
          0.0233263145636085,
          0.0029545677502005,
          0.9779434614756352,
          1,
          0.1289645338116608,
          0,
          0.6884730534209358,
          0.5412393317330737,
          1,
          0.896316889728854,
          0.9999023772082491,
          0.999769111156486,
          0.9964653518072134,
          0.9894400561230732,
          0.8004076868586659,
          0.9812092880221416,
          0.0087631419491068,
          0.9843623964155036,
          0.0718017859348018,
          0.4439844750356825,
          0.995766479714473,
          0.629937524780423,
          0.9987923221289016,
          0.9969780855543549,
          0.9928632328999912,
          0.7576081836228213,
          0.9569301299507084,
          0.1239887279022919,
          0.9993686169971676,
          0.3560304224860875,
          0.8030003327977191,
          1,
          0.5835874058529897,
          0.4744331845212835,
          1,
          0.6792339595186766,
          0.934656971052846,
          0.6601488222282588,
          0.0182526130601262,
          0.951238183689618,
          0.9985768309669852,
          1,
          0.8505189312968627,
          0.5046089363121669,
          0.989226748802306,
          0.759092140317432,
          1,
          0.7987861016745014,
          0.3281440733872517,
          1,
          0.9892008115357692,
          0.8240328251896623,
          0.7513172768457576,
          1,
          0,
          0.473679056691642,
          0.9220012769793576,
          0.9746217597749915,
          0.011165898147236,
          0.7671930576720704,
          1,
          0.9999366187021578,
          0.5399731368008133,
          0.9905727937875806,
          0.9952552467437336,
          0.0141368995189944,
          1,
          0.7051023527542364,
          0.2209265317565552,
          0.9990909666022688,
          0.998303243953946,
          0.9279172802632124,
          0.9333817944920566,
          0.9860191815474708,
          1,
          1,
          1,
          1,
          0.331889775376636,
          1,
          0.9881977587212876,
          0.986838157347544,
          0.7277060330359509,
          0.988816982069051,
          1,
          0.9749715176461032,
          0.7607591609917332,
          1,
          0.9696465036975356,
          0.99567123578268,
          0.695978767088988,
          0.0562488360172445,
          0.9936181438353944,
          0.9367777170435256,
          0.9607413202600512,
          1,
          1,
          0.9343161146688744,
          0.4513743130289028,
          0.5203550845597431,
          0.9959115601238552,
          0.4198895815476896,
          0.9894668778756672,
          0.9275497186313528,
          1,
          0.2263879086610551,
          0.9860692630935924,
          0.0016816423312117,
          0.7537861245166863,
          0.7572528830080685,
          0,
          0.0001460950870309,
          0.3009628729023835,
          0.5189121187794874,
          1,
          0.0182511279483284,
          0.9886859772743604,
          0.1239028238929616,
          0.7658097333300331,
          0.848553330023018,
          0.8183586551864291,
          0.997319592386439,
          0.7685434641654825
         ],
         "xaxis": "x",
         "yaxis": "y"
        }
       ],
       "layout": {
        "barmode": "relative",
        "height": 400,
        "legend": {
         "title": {
          "text": "variable"
         },
         "tracegroupgap": 0
        },
        "template": {
         "data": {
          "bar": [
           {
            "error_x": {
             "color": "#2a3f5f"
            },
            "error_y": {
             "color": "#2a3f5f"
            },
            "marker": {
             "line": {
              "color": "#E5ECF6",
              "width": 0.5
             },
             "pattern": {
              "fillmode": "overlay",
              "size": 10,
              "solidity": 0.2
             }
            },
            "type": "bar"
           }
          ],
          "barpolar": [
           {
            "marker": {
             "line": {
              "color": "#E5ECF6",
              "width": 0.5
             },
             "pattern": {
              "fillmode": "overlay",
              "size": 10,
              "solidity": 0.2
             }
            },
            "type": "barpolar"
           }
          ],
          "carpet": [
           {
            "aaxis": {
             "endlinecolor": "#2a3f5f",
             "gridcolor": "white",
             "linecolor": "white",
             "minorgridcolor": "white",
             "startlinecolor": "#2a3f5f"
            },
            "baxis": {
             "endlinecolor": "#2a3f5f",
             "gridcolor": "white",
             "linecolor": "white",
             "minorgridcolor": "white",
             "startlinecolor": "#2a3f5f"
            },
            "type": "carpet"
           }
          ],
          "choropleth": [
           {
            "colorbar": {
             "outlinewidth": 0,
             "ticks": ""
            },
            "type": "choropleth"
           }
          ],
          "contour": [
           {
            "colorbar": {
             "outlinewidth": 0,
             "ticks": ""
            },
            "colorscale": [
             [
              0,
              "#0d0887"
             ],
             [
              0.1111111111111111,
              "#46039f"
             ],
             [
              0.2222222222222222,
              "#7201a8"
             ],
             [
              0.3333333333333333,
              "#9c179e"
             ],
             [
              0.4444444444444444,
              "#bd3786"
             ],
             [
              0.5555555555555556,
              "#d8576b"
             ],
             [
              0.6666666666666666,
              "#ed7953"
             ],
             [
              0.7777777777777778,
              "#fb9f3a"
             ],
             [
              0.8888888888888888,
              "#fdca26"
             ],
             [
              1,
              "#f0f921"
             ]
            ],
            "type": "contour"
           }
          ],
          "contourcarpet": [
           {
            "colorbar": {
             "outlinewidth": 0,
             "ticks": ""
            },
            "type": "contourcarpet"
           }
          ],
          "heatmap": [
           {
            "colorbar": {
             "outlinewidth": 0,
             "ticks": ""
            },
            "colorscale": [
             [
              0,
              "#0d0887"
             ],
             [
              0.1111111111111111,
              "#46039f"
             ],
             [
              0.2222222222222222,
              "#7201a8"
             ],
             [
              0.3333333333333333,
              "#9c179e"
             ],
             [
              0.4444444444444444,
              "#bd3786"
             ],
             [
              0.5555555555555556,
              "#d8576b"
             ],
             [
              0.6666666666666666,
              "#ed7953"
             ],
             [
              0.7777777777777778,
              "#fb9f3a"
             ],
             [
              0.8888888888888888,
              "#fdca26"
             ],
             [
              1,
              "#f0f921"
             ]
            ],
            "type": "heatmap"
           }
          ],
          "heatmapgl": [
           {
            "colorbar": {
             "outlinewidth": 0,
             "ticks": ""
            },
            "colorscale": [
             [
              0,
              "#0d0887"
             ],
             [
              0.1111111111111111,
              "#46039f"
             ],
             [
              0.2222222222222222,
              "#7201a8"
             ],
             [
              0.3333333333333333,
              "#9c179e"
             ],
             [
              0.4444444444444444,
              "#bd3786"
             ],
             [
              0.5555555555555556,
              "#d8576b"
             ],
             [
              0.6666666666666666,
              "#ed7953"
             ],
             [
              0.7777777777777778,
              "#fb9f3a"
             ],
             [
              0.8888888888888888,
              "#fdca26"
             ],
             [
              1,
              "#f0f921"
             ]
            ],
            "type": "heatmapgl"
           }
          ],
          "histogram": [
           {
            "marker": {
             "pattern": {
              "fillmode": "overlay",
              "size": 10,
              "solidity": 0.2
             }
            },
            "type": "histogram"
           }
          ],
          "histogram2d": [
           {
            "colorbar": {
             "outlinewidth": 0,
             "ticks": ""
            },
            "colorscale": [
             [
              0,
              "#0d0887"
             ],
             [
              0.1111111111111111,
              "#46039f"
             ],
             [
              0.2222222222222222,
              "#7201a8"
             ],
             [
              0.3333333333333333,
              "#9c179e"
             ],
             [
              0.4444444444444444,
              "#bd3786"
             ],
             [
              0.5555555555555556,
              "#d8576b"
             ],
             [
              0.6666666666666666,
              "#ed7953"
             ],
             [
              0.7777777777777778,
              "#fb9f3a"
             ],
             [
              0.8888888888888888,
              "#fdca26"
             ],
             [
              1,
              "#f0f921"
             ]
            ],
            "type": "histogram2d"
           }
          ],
          "histogram2dcontour": [
           {
            "colorbar": {
             "outlinewidth": 0,
             "ticks": ""
            },
            "colorscale": [
             [
              0,
              "#0d0887"
             ],
             [
              0.1111111111111111,
              "#46039f"
             ],
             [
              0.2222222222222222,
              "#7201a8"
             ],
             [
              0.3333333333333333,
              "#9c179e"
             ],
             [
              0.4444444444444444,
              "#bd3786"
             ],
             [
              0.5555555555555556,
              "#d8576b"
             ],
             [
              0.6666666666666666,
              "#ed7953"
             ],
             [
              0.7777777777777778,
              "#fb9f3a"
             ],
             [
              0.8888888888888888,
              "#fdca26"
             ],
             [
              1,
              "#f0f921"
             ]
            ],
            "type": "histogram2dcontour"
           }
          ],
          "mesh3d": [
           {
            "colorbar": {
             "outlinewidth": 0,
             "ticks": ""
            },
            "type": "mesh3d"
           }
          ],
          "parcoords": [
           {
            "line": {
             "colorbar": {
              "outlinewidth": 0,
              "ticks": ""
             }
            },
            "type": "parcoords"
           }
          ],
          "pie": [
           {
            "automargin": true,
            "type": "pie"
           }
          ],
          "scatter": [
           {
            "fillpattern": {
             "fillmode": "overlay",
             "size": 10,
             "solidity": 0.2
            },
            "type": "scatter"
           }
          ],
          "scatter3d": [
           {
            "line": {
             "colorbar": {
              "outlinewidth": 0,
              "ticks": ""
             }
            },
            "marker": {
             "colorbar": {
              "outlinewidth": 0,
              "ticks": ""
             }
            },
            "type": "scatter3d"
           }
          ],
          "scattercarpet": [
           {
            "marker": {
             "colorbar": {
              "outlinewidth": 0,
              "ticks": ""
             }
            },
            "type": "scattercarpet"
           }
          ],
          "scattergeo": [
           {
            "marker": {
             "colorbar": {
              "outlinewidth": 0,
              "ticks": ""
             }
            },
            "type": "scattergeo"
           }
          ],
          "scattergl": [
           {
            "marker": {
             "colorbar": {
              "outlinewidth": 0,
              "ticks": ""
             }
            },
            "type": "scattergl"
           }
          ],
          "scattermapbox": [
           {
            "marker": {
             "colorbar": {
              "outlinewidth": 0,
              "ticks": ""
             }
            },
            "type": "scattermapbox"
           }
          ],
          "scatterpolar": [
           {
            "marker": {
             "colorbar": {
              "outlinewidth": 0,
              "ticks": ""
             }
            },
            "type": "scatterpolar"
           }
          ],
          "scatterpolargl": [
           {
            "marker": {
             "colorbar": {
              "outlinewidth": 0,
              "ticks": ""
             }
            },
            "type": "scatterpolargl"
           }
          ],
          "scatterternary": [
           {
            "marker": {
             "colorbar": {
              "outlinewidth": 0,
              "ticks": ""
             }
            },
            "type": "scatterternary"
           }
          ],
          "surface": [
           {
            "colorbar": {
             "outlinewidth": 0,
             "ticks": ""
            },
            "colorscale": [
             [
              0,
              "#0d0887"
             ],
             [
              0.1111111111111111,
              "#46039f"
             ],
             [
              0.2222222222222222,
              "#7201a8"
             ],
             [
              0.3333333333333333,
              "#9c179e"
             ],
             [
              0.4444444444444444,
              "#bd3786"
             ],
             [
              0.5555555555555556,
              "#d8576b"
             ],
             [
              0.6666666666666666,
              "#ed7953"
             ],
             [
              0.7777777777777778,
              "#fb9f3a"
             ],
             [
              0.8888888888888888,
              "#fdca26"
             ],
             [
              1,
              "#f0f921"
             ]
            ],
            "type": "surface"
           }
          ],
          "table": [
           {
            "cells": {
             "fill": {
              "color": "#EBF0F8"
             },
             "line": {
              "color": "white"
             }
            },
            "header": {
             "fill": {
              "color": "#C8D4E3"
             },
             "line": {
              "color": "white"
             }
            },
            "type": "table"
           }
          ]
         },
         "layout": {
          "annotationdefaults": {
           "arrowcolor": "#2a3f5f",
           "arrowhead": 0,
           "arrowwidth": 1
          },
          "autotypenumbers": "strict",
          "coloraxis": {
           "colorbar": {
            "outlinewidth": 0,
            "ticks": ""
           }
          },
          "colorscale": {
           "diverging": [
            [
             0,
             "#8e0152"
            ],
            [
             0.1,
             "#c51b7d"
            ],
            [
             0.2,
             "#de77ae"
            ],
            [
             0.3,
             "#f1b6da"
            ],
            [
             0.4,
             "#fde0ef"
            ],
            [
             0.5,
             "#f7f7f7"
            ],
            [
             0.6,
             "#e6f5d0"
            ],
            [
             0.7,
             "#b8e186"
            ],
            [
             0.8,
             "#7fbc41"
            ],
            [
             0.9,
             "#4d9221"
            ],
            [
             1,
             "#276419"
            ]
           ],
           "sequential": [
            [
             0,
             "#0d0887"
            ],
            [
             0.1111111111111111,
             "#46039f"
            ],
            [
             0.2222222222222222,
             "#7201a8"
            ],
            [
             0.3333333333333333,
             "#9c179e"
            ],
            [
             0.4444444444444444,
             "#bd3786"
            ],
            [
             0.5555555555555556,
             "#d8576b"
            ],
            [
             0.6666666666666666,
             "#ed7953"
            ],
            [
             0.7777777777777778,
             "#fb9f3a"
            ],
            [
             0.8888888888888888,
             "#fdca26"
            ],
            [
             1,
             "#f0f921"
            ]
           ],
           "sequentialminus": [
            [
             0,
             "#0d0887"
            ],
            [
             0.1111111111111111,
             "#46039f"
            ],
            [
             0.2222222222222222,
             "#7201a8"
            ],
            [
             0.3333333333333333,
             "#9c179e"
            ],
            [
             0.4444444444444444,
             "#bd3786"
            ],
            [
             0.5555555555555556,
             "#d8576b"
            ],
            [
             0.6666666666666666,
             "#ed7953"
            ],
            [
             0.7777777777777778,
             "#fb9f3a"
            ],
            [
             0.8888888888888888,
             "#fdca26"
            ],
            [
             1,
             "#f0f921"
            ]
           ]
          },
          "colorway": [
           "#636efa",
           "#EF553B",
           "#00cc96",
           "#ab63fa",
           "#FFA15A",
           "#19d3f3",
           "#FF6692",
           "#B6E880",
           "#FF97FF",
           "#FECB52"
          ],
          "font": {
           "color": "#2a3f5f"
          },
          "geo": {
           "bgcolor": "white",
           "lakecolor": "white",
           "landcolor": "#E5ECF6",
           "showlakes": true,
           "showland": true,
           "subunitcolor": "white"
          },
          "hoverlabel": {
           "align": "left"
          },
          "hovermode": "closest",
          "mapbox": {
           "style": "light"
          },
          "paper_bgcolor": "white",
          "plot_bgcolor": "#E5ECF6",
          "polar": {
           "angularaxis": {
            "gridcolor": "white",
            "linecolor": "white",
            "ticks": ""
           },
           "bgcolor": "#E5ECF6",
           "radialaxis": {
            "gridcolor": "white",
            "linecolor": "white",
            "ticks": ""
           }
          },
          "scene": {
           "xaxis": {
            "backgroundcolor": "#E5ECF6",
            "gridcolor": "white",
            "gridwidth": 2,
            "linecolor": "white",
            "showbackground": true,
            "ticks": "",
            "zerolinecolor": "white"
           },
           "yaxis": {
            "backgroundcolor": "#E5ECF6",
            "gridcolor": "white",
            "gridwidth": 2,
            "linecolor": "white",
            "showbackground": true,
            "ticks": "",
            "zerolinecolor": "white"
           },
           "zaxis": {
            "backgroundcolor": "#E5ECF6",
            "gridcolor": "white",
            "gridwidth": 2,
            "linecolor": "white",
            "showbackground": true,
            "ticks": "",
            "zerolinecolor": "white"
           }
          },
          "shapedefaults": {
           "line": {
            "color": "#2a3f5f"
           }
          },
          "ternary": {
           "aaxis": {
            "gridcolor": "white",
            "linecolor": "white",
            "ticks": ""
           },
           "baxis": {
            "gridcolor": "white",
            "linecolor": "white",
            "ticks": ""
           },
           "bgcolor": "#E5ECF6",
           "caxis": {
            "gridcolor": "white",
            "linecolor": "white",
            "ticks": ""
           }
          },
          "title": {
           "x": 0.05
          },
          "xaxis": {
           "automargin": true,
           "gridcolor": "white",
           "linecolor": "white",
           "ticks": "",
           "title": {
            "standoff": 15
           },
           "zerolinecolor": "white",
           "zerolinewidth": 2
          },
          "yaxis": {
           "automargin": true,
           "gridcolor": "white",
           "linecolor": "white",
           "ticks": "",
           "title": {
            "standoff": 15
           },
           "zerolinecolor": "white",
           "zerolinewidth": 2
          }
         }
        },
        "title": {
         "text": "Histogram: overall prediction consistency"
        },
        "width": 800,
        "xaxis": {
         "anchor": "y",
         "domain": [
          0,
          1
         ],
         "title": {
          "text": "value"
         }
        },
        "yaxis": {
         "anchor": "x",
         "domain": [
          0,
          1
         ],
         "title": {
          "text": "count"
         }
        }
       }
      },
      "text/html": [
       "<div>                            <div id=\"8bce2e26-5bbd-4487-bfb4-7610d47fff75\" class=\"plotly-graph-div\" style=\"height:400px; width:800px;\"></div>            <script type=\"text/javascript\">                require([\"plotly\"], function(Plotly) {                    window.PLOTLYENV=window.PLOTLYENV || {};                                    if (document.getElementById(\"8bce2e26-5bbd-4487-bfb4-7610d47fff75\")) {                    Plotly.newPlot(                        \"8bce2e26-5bbd-4487-bfb4-7610d47fff75\",                        [{\"alignmentgroup\":\"True\",\"bingroup\":\"x\",\"hovertemplate\":\"variable=unet<br>value=%{x}<br>count=%{y}<extra></extra>\",\"legendgroup\":\"unet\",\"marker\":{\"color\":\"#636efa\",\"pattern\":{\"shape\":\"\"}},\"name\":\"unet\",\"nbinsx\":200,\"offsetgroup\":\"unet\",\"orientation\":\"v\",\"showlegend\":true,\"x\":[0.8630502573917634,0.0953542566674389,0.8875804123963505,0.0865612565004105,0.9282342080970593,0.0103971066820429,0.9450597064762843,0.1262462828985228,0.3676721083191386,0.3976472045451776,0.8763002268064806,0.7041544429758105,0.3539975336939167,0.0502392604676454,0.6495316879030661,0.1883559228281973,0.5393088487651425,0.9103475424304652,0.9231913706527805,0.4534834362121721,0.0983278796610583,0.3057365182772349,0.9810826919588485,0.1479880482136686,0.0028902522726366,0.4622178018501653,0.3715321942124486,0.0351423831411701,0.6681575452007265,0.1744949778600185,0.0167795594828943,0.1024014724552788,0.0,0.9768590175998038,0.1951788491446345,0.2497464036980808,0.3159329957148422,0.3812529356505401,0.0756247690239646,0.1014448927906559,0.2839520627315356,0.2103709311127933,0.7371636475342952,0.2003935269364642,0.5313888002043292,0.3045296607492577,0.6747311363612809,0.5681995288250216,0.1431171889084415,0.3941765565938553,0.2270359520639147,0.8397948972593926,0.1153559833651721,0.7928093462044756,0.9790330640459732,0.7664310422619943,0.179459193538238,0.5961511047754812,0.9826228490587828,0.0433502460859834,0.0189321461969145,0.5945464911777926,0.1804290028651816,0.0703875939519089,4.055602307637713e-05,0.5935693461576796,0.4256890523862344,0.1434609444850849,0.0030254124897608,0.7783535918196829,0.0832637276463571,0.9606786356175884,0.8101581815126857,0.744362015711606,0.9943767111146128,0.9995524208143148,0.9952504713017596,0.8450590400933866,0.9693110630647754,0.0174025870761846,0.9860281690663432,0.5869930573617975,0.9258036292015532,0.9922521394362116,0.4898351762410218,0.9978902709897652,0.999752759343087,0.9960995182400064,0.9391377662863244,0.7720642322799128,0.8183049860958417,0.9140103076232508,0.3554285533980965,0.972302915195277,1.0,0.8356064633949005,0.7236221689727139,0.7635530519589709,0.9636900251266304,0.9865550701443258,0.9863397954156886,0.771168103295378,0.7699016509812003,0.9879211431177036,0.9971404406137984,0.8521260952764629,0.3960924888424651,0.9355357717472916,0.8132190484696583,0.998371285265684,0.9317904874550884,0.8899808026327818,1.0,0.9934833441944264,0.8307491702228544,0.8802780296013086,0.999919237803666,0.0156709295667112,0.598094161074888,0.8940818229500553,0.8765835399348597,0.0209669359540268,0.9221118738562496,0.9983592307143556,0.950427944042462,0.9682816574001666,0.9708178007243398,0.9966261654546698,0.345364522526831,0.9837431486518204,0.6459306501817549,0.7837342187560326,1.0,0.993286352551834,0.905149018948582,0.7962803632953536,0.9818816931811136,0.9639059386209644,0.9999989268348174,0.9993292141512904,0.9998398483538868,0.5838431412701257,1.0,0.8077653298585484,0.9968994309543868,0.8261035292941412,0.7009032545304483,0.9999433038586084,0.9992417840033008,0.9810678538030856,0.9968675715447072,0.9939352097004472,0.9953213180675844,0.7734680684563302,0.4848264918258644,0.9984763856901232,0.9616444233203923,1.0,0.9999855322504224,0.98411104732578,0.8502777795374353,0.7399624223153635,0.6703870479763818,0.9917646124223084,0.9067914844399464,0.9906364039933568,0.944332056072542,0.9954954048771002,0.362268411693402,0.9402970003151764,0.4212461331648932,0.8803112185339855,0.9505913077911834,0.0966810377626375,0.4040604812948108,0.1668185322772832,0.9115613976810768,1.0,0.2350144384785453,0.8926750408199557,0.8761695081587609,0.982002252185574,0.8868966782959734,0.9695838815802504,0.97971410884835,0.6670389803272302],\"xaxis\":\"x\",\"yaxis\":\"y\",\"type\":\"histogram\"},{\"alignmentgroup\":\"True\",\"bingroup\":\"x\",\"hovertemplate\":\"variable=segformer<br>value=%{x}<br>count=%{y}<extra></extra>\",\"legendgroup\":\"segformer\",\"marker\":{\"color\":\"#EF553B\",\"pattern\":{\"shape\":\"\"}},\"name\":\"segformer\",\"nbinsx\":200,\"offsetgroup\":\"segformer\",\"orientation\":\"v\",\"showlegend\":true,\"x\":[1.0,0.1265642924371968,0.9951757972984848,0.2356413434212467,1.0,0.0009716329989979,0.9912663492753416,0.3905245325665434,0.6198975533708759,0.6734270141148057,0.9999118922936154,0.9318114380091258,0.7269808182440921,0.553100169950861,0.9614986412259328,0.5815834912637317,0.9775658226819914,1.0,1.0,0.8626080645357327,0.0639232518479105,0.5007200808054478,0.9985745013746414,0.994255555068518,0.1671345814254611,0.8307724213037334,0.9945114329934642,0.6900255994964866,1.0,0.5245665051389943,0.2149178617253925,0.1452681346213409,0.0,0.9971833412291656,0.9991373589913736,0.0978145066578826,0.9317862196023784,0.922154060435551,0.5557985253107186,0.8677806442377413,0.5702179594327483,0.9883725811190864,0.969727109535837,0.2680137545642563,0.9985917315539824,0.3124892790868121,0.6606020586221083,0.9372144262675938,0.3463617916706473,0.6894385460942594,0.822067230030959,0.937953746987882,0.0702682311948413,0.9845183884176192,0.9942993276297007,0.9988054889046216,0.2069615766962849,0.9998526015820765,0.9976222359565994,1.0,0.2392408390082668,0.92926295982668,0.0327639008347189,0.0233263145636085,0.0029545677502005,0.9779434614756352,1.0,0.1289645338116608,0.0,0.6884730534209358,0.5412393317330737,1.0,0.896316889728854,0.9999023772082491,0.999769111156486,0.9964653518072134,0.9894400561230732,0.8004076868586659,0.9812092880221416,0.0087631419491068,0.9843623964155036,0.0718017859348018,0.4439844750356825,0.995766479714473,0.629937524780423,0.9987923221289016,0.9969780855543549,0.9928632328999912,0.7576081836228213,0.9569301299507084,0.1239887279022919,0.9993686169971676,0.3560304224860875,0.8030003327977191,1.0,0.5835874058529897,0.4744331845212835,1.0,0.6792339595186766,0.934656971052846,0.6601488222282588,0.0182526130601262,0.951238183689618,0.9985768309669852,1.0,0.8505189312968627,0.5046089363121669,0.989226748802306,0.759092140317432,1.0,0.7987861016745014,0.3281440733872517,1.0,0.9892008115357692,0.8240328251896623,0.7513172768457576,1.0,0.0,0.473679056691642,0.9220012769793576,0.9746217597749915,0.011165898147236,0.7671930576720704,1.0,0.9999366187021578,0.5399731368008133,0.9905727937875806,0.9952552467437336,0.0141368995189944,1.0,0.7051023527542364,0.2209265317565552,0.9990909666022688,0.998303243953946,0.9279172802632124,0.9333817944920566,0.9860191815474708,1.0,1.0,1.0,1.0,0.331889775376636,1.0,0.9881977587212876,0.986838157347544,0.7277060330359509,0.988816982069051,1.0,0.9749715176461032,0.7607591609917332,1.0,0.9696465036975356,0.99567123578268,0.695978767088988,0.0562488360172445,0.9936181438353944,0.9367777170435256,0.9607413202600512,1.0,1.0,0.9343161146688744,0.4513743130289028,0.5203550845597431,0.9959115601238552,0.4198895815476896,0.9894668778756672,0.9275497186313528,1.0,0.2263879086610551,0.9860692630935924,0.0016816423312117,0.7537861245166863,0.7572528830080685,0.0,0.0001460950870309,0.3009628729023835,0.5189121187794874,1.0,0.0182511279483284,0.9886859772743604,0.1239028238929616,0.7658097333300331,0.848553330023018,0.8183586551864291,0.997319592386439,0.7685434641654825],\"xaxis\":\"x\",\"yaxis\":\"y\",\"type\":\"histogram\"}],                        {\"template\":{\"data\":{\"histogram2dcontour\":[{\"type\":\"histogram2dcontour\",\"colorbar\":{\"outlinewidth\":0,\"ticks\":\"\"},\"colorscale\":[[0.0,\"#0d0887\"],[0.1111111111111111,\"#46039f\"],[0.2222222222222222,\"#7201a8\"],[0.3333333333333333,\"#9c179e\"],[0.4444444444444444,\"#bd3786\"],[0.5555555555555556,\"#d8576b\"],[0.6666666666666666,\"#ed7953\"],[0.7777777777777778,\"#fb9f3a\"],[0.8888888888888888,\"#fdca26\"],[1.0,\"#f0f921\"]]}],\"choropleth\":[{\"type\":\"choropleth\",\"colorbar\":{\"outlinewidth\":0,\"ticks\":\"\"}}],\"histogram2d\":[{\"type\":\"histogram2d\",\"colorbar\":{\"outlinewidth\":0,\"ticks\":\"\"},\"colorscale\":[[0.0,\"#0d0887\"],[0.1111111111111111,\"#46039f\"],[0.2222222222222222,\"#7201a8\"],[0.3333333333333333,\"#9c179e\"],[0.4444444444444444,\"#bd3786\"],[0.5555555555555556,\"#d8576b\"],[0.6666666666666666,\"#ed7953\"],[0.7777777777777778,\"#fb9f3a\"],[0.8888888888888888,\"#fdca26\"],[1.0,\"#f0f921\"]]}],\"heatmap\":[{\"type\":\"heatmap\",\"colorbar\":{\"outlinewidth\":0,\"ticks\":\"\"},\"colorscale\":[[0.0,\"#0d0887\"],[0.1111111111111111,\"#46039f\"],[0.2222222222222222,\"#7201a8\"],[0.3333333333333333,\"#9c179e\"],[0.4444444444444444,\"#bd3786\"],[0.5555555555555556,\"#d8576b\"],[0.6666666666666666,\"#ed7953\"],[0.7777777777777778,\"#fb9f3a\"],[0.8888888888888888,\"#fdca26\"],[1.0,\"#f0f921\"]]}],\"heatmapgl\":[{\"type\":\"heatmapgl\",\"colorbar\":{\"outlinewidth\":0,\"ticks\":\"\"},\"colorscale\":[[0.0,\"#0d0887\"],[0.1111111111111111,\"#46039f\"],[0.2222222222222222,\"#7201a8\"],[0.3333333333333333,\"#9c179e\"],[0.4444444444444444,\"#bd3786\"],[0.5555555555555556,\"#d8576b\"],[0.6666666666666666,\"#ed7953\"],[0.7777777777777778,\"#fb9f3a\"],[0.8888888888888888,\"#fdca26\"],[1.0,\"#f0f921\"]]}],\"contourcarpet\":[{\"type\":\"contourcarpet\",\"colorbar\":{\"outlinewidth\":0,\"ticks\":\"\"}}],\"contour\":[{\"type\":\"contour\",\"colorbar\":{\"outlinewidth\":0,\"ticks\":\"\"},\"colorscale\":[[0.0,\"#0d0887\"],[0.1111111111111111,\"#46039f\"],[0.2222222222222222,\"#7201a8\"],[0.3333333333333333,\"#9c179e\"],[0.4444444444444444,\"#bd3786\"],[0.5555555555555556,\"#d8576b\"],[0.6666666666666666,\"#ed7953\"],[0.7777777777777778,\"#fb9f3a\"],[0.8888888888888888,\"#fdca26\"],[1.0,\"#f0f921\"]]}],\"surface\":[{\"type\":\"surface\",\"colorbar\":{\"outlinewidth\":0,\"ticks\":\"\"},\"colorscale\":[[0.0,\"#0d0887\"],[0.1111111111111111,\"#46039f\"],[0.2222222222222222,\"#7201a8\"],[0.3333333333333333,\"#9c179e\"],[0.4444444444444444,\"#bd3786\"],[0.5555555555555556,\"#d8576b\"],[0.6666666666666666,\"#ed7953\"],[0.7777777777777778,\"#fb9f3a\"],[0.8888888888888888,\"#fdca26\"],[1.0,\"#f0f921\"]]}],\"mesh3d\":[{\"type\":\"mesh3d\",\"colorbar\":{\"outlinewidth\":0,\"ticks\":\"\"}}],\"scatter\":[{\"fillpattern\":{\"fillmode\":\"overlay\",\"size\":10,\"solidity\":0.2},\"type\":\"scatter\"}],\"parcoords\":[{\"type\":\"parcoords\",\"line\":{\"colorbar\":{\"outlinewidth\":0,\"ticks\":\"\"}}}],\"scatterpolargl\":[{\"type\":\"scatterpolargl\",\"marker\":{\"colorbar\":{\"outlinewidth\":0,\"ticks\":\"\"}}}],\"bar\":[{\"error_x\":{\"color\":\"#2a3f5f\"},\"error_y\":{\"color\":\"#2a3f5f\"},\"marker\":{\"line\":{\"color\":\"#E5ECF6\",\"width\":0.5},\"pattern\":{\"fillmode\":\"overlay\",\"size\":10,\"solidity\":0.2}},\"type\":\"bar\"}],\"scattergeo\":[{\"type\":\"scattergeo\",\"marker\":{\"colorbar\":{\"outlinewidth\":0,\"ticks\":\"\"}}}],\"scatterpolar\":[{\"type\":\"scatterpolar\",\"marker\":{\"colorbar\":{\"outlinewidth\":0,\"ticks\":\"\"}}}],\"histogram\":[{\"marker\":{\"pattern\":{\"fillmode\":\"overlay\",\"size\":10,\"solidity\":0.2}},\"type\":\"histogram\"}],\"scattergl\":[{\"type\":\"scattergl\",\"marker\":{\"colorbar\":{\"outlinewidth\":0,\"ticks\":\"\"}}}],\"scatter3d\":[{\"type\":\"scatter3d\",\"line\":{\"colorbar\":{\"outlinewidth\":0,\"ticks\":\"\"}},\"marker\":{\"colorbar\":{\"outlinewidth\":0,\"ticks\":\"\"}}}],\"scattermapbox\":[{\"type\":\"scattermapbox\",\"marker\":{\"colorbar\":{\"outlinewidth\":0,\"ticks\":\"\"}}}],\"scatterternary\":[{\"type\":\"scatterternary\",\"marker\":{\"colorbar\":{\"outlinewidth\":0,\"ticks\":\"\"}}}],\"scattercarpet\":[{\"type\":\"scattercarpet\",\"marker\":{\"colorbar\":{\"outlinewidth\":0,\"ticks\":\"\"}}}],\"carpet\":[{\"aaxis\":{\"endlinecolor\":\"#2a3f5f\",\"gridcolor\":\"white\",\"linecolor\":\"white\",\"minorgridcolor\":\"white\",\"startlinecolor\":\"#2a3f5f\"},\"baxis\":{\"endlinecolor\":\"#2a3f5f\",\"gridcolor\":\"white\",\"linecolor\":\"white\",\"minorgridcolor\":\"white\",\"startlinecolor\":\"#2a3f5f\"},\"type\":\"carpet\"}],\"table\":[{\"cells\":{\"fill\":{\"color\":\"#EBF0F8\"},\"line\":{\"color\":\"white\"}},\"header\":{\"fill\":{\"color\":\"#C8D4E3\"},\"line\":{\"color\":\"white\"}},\"type\":\"table\"}],\"barpolar\":[{\"marker\":{\"line\":{\"color\":\"#E5ECF6\",\"width\":0.5},\"pattern\":{\"fillmode\":\"overlay\",\"size\":10,\"solidity\":0.2}},\"type\":\"barpolar\"}],\"pie\":[{\"automargin\":true,\"type\":\"pie\"}]},\"layout\":{\"autotypenumbers\":\"strict\",\"colorway\":[\"#636efa\",\"#EF553B\",\"#00cc96\",\"#ab63fa\",\"#FFA15A\",\"#19d3f3\",\"#FF6692\",\"#B6E880\",\"#FF97FF\",\"#FECB52\"],\"font\":{\"color\":\"#2a3f5f\"},\"hovermode\":\"closest\",\"hoverlabel\":{\"align\":\"left\"},\"paper_bgcolor\":\"white\",\"plot_bgcolor\":\"#E5ECF6\",\"polar\":{\"bgcolor\":\"#E5ECF6\",\"angularaxis\":{\"gridcolor\":\"white\",\"linecolor\":\"white\",\"ticks\":\"\"},\"radialaxis\":{\"gridcolor\":\"white\",\"linecolor\":\"white\",\"ticks\":\"\"}},\"ternary\":{\"bgcolor\":\"#E5ECF6\",\"aaxis\":{\"gridcolor\":\"white\",\"linecolor\":\"white\",\"ticks\":\"\"},\"baxis\":{\"gridcolor\":\"white\",\"linecolor\":\"white\",\"ticks\":\"\"},\"caxis\":{\"gridcolor\":\"white\",\"linecolor\":\"white\",\"ticks\":\"\"}},\"coloraxis\":{\"colorbar\":{\"outlinewidth\":0,\"ticks\":\"\"}},\"colorscale\":{\"sequential\":[[0.0,\"#0d0887\"],[0.1111111111111111,\"#46039f\"],[0.2222222222222222,\"#7201a8\"],[0.3333333333333333,\"#9c179e\"],[0.4444444444444444,\"#bd3786\"],[0.5555555555555556,\"#d8576b\"],[0.6666666666666666,\"#ed7953\"],[0.7777777777777778,\"#fb9f3a\"],[0.8888888888888888,\"#fdca26\"],[1.0,\"#f0f921\"]],\"sequentialminus\":[[0.0,\"#0d0887\"],[0.1111111111111111,\"#46039f\"],[0.2222222222222222,\"#7201a8\"],[0.3333333333333333,\"#9c179e\"],[0.4444444444444444,\"#bd3786\"],[0.5555555555555556,\"#d8576b\"],[0.6666666666666666,\"#ed7953\"],[0.7777777777777778,\"#fb9f3a\"],[0.8888888888888888,\"#fdca26\"],[1.0,\"#f0f921\"]],\"diverging\":[[0,\"#8e0152\"],[0.1,\"#c51b7d\"],[0.2,\"#de77ae\"],[0.3,\"#f1b6da\"],[0.4,\"#fde0ef\"],[0.5,\"#f7f7f7\"],[0.6,\"#e6f5d0\"],[0.7,\"#b8e186\"],[0.8,\"#7fbc41\"],[0.9,\"#4d9221\"],[1,\"#276419\"]]},\"xaxis\":{\"gridcolor\":\"white\",\"linecolor\":\"white\",\"ticks\":\"\",\"title\":{\"standoff\":15},\"zerolinecolor\":\"white\",\"automargin\":true,\"zerolinewidth\":2},\"yaxis\":{\"gridcolor\":\"white\",\"linecolor\":\"white\",\"ticks\":\"\",\"title\":{\"standoff\":15},\"zerolinecolor\":\"white\",\"automargin\":true,\"zerolinewidth\":2},\"scene\":{\"xaxis\":{\"backgroundcolor\":\"#E5ECF6\",\"gridcolor\":\"white\",\"linecolor\":\"white\",\"showbackground\":true,\"ticks\":\"\",\"zerolinecolor\":\"white\",\"gridwidth\":2},\"yaxis\":{\"backgroundcolor\":\"#E5ECF6\",\"gridcolor\":\"white\",\"linecolor\":\"white\",\"showbackground\":true,\"ticks\":\"\",\"zerolinecolor\":\"white\",\"gridwidth\":2},\"zaxis\":{\"backgroundcolor\":\"#E5ECF6\",\"gridcolor\":\"white\",\"linecolor\":\"white\",\"showbackground\":true,\"ticks\":\"\",\"zerolinecolor\":\"white\",\"gridwidth\":2}},\"shapedefaults\":{\"line\":{\"color\":\"#2a3f5f\"}},\"annotationdefaults\":{\"arrowcolor\":\"#2a3f5f\",\"arrowhead\":0,\"arrowwidth\":1},\"geo\":{\"bgcolor\":\"white\",\"landcolor\":\"#E5ECF6\",\"subunitcolor\":\"white\",\"showland\":true,\"showlakes\":true,\"lakecolor\":\"white\"},\"title\":{\"x\":0.05},\"mapbox\":{\"style\":\"light\"}}},\"xaxis\":{\"anchor\":\"y\",\"domain\":[0.0,1.0],\"title\":{\"text\":\"value\"}},\"yaxis\":{\"anchor\":\"x\",\"domain\":[0.0,1.0],\"title\":{\"text\":\"count\"}},\"legend\":{\"title\":{\"text\":\"variable\"},\"tracegroupgap\":0},\"title\":{\"text\":\"Histogram: overall prediction consistency\"},\"barmode\":\"relative\",\"height\":400,\"width\":800},                        {\"responsive\": true}                    ).then(function(){\n",
       "                            \n",
       "var gd = document.getElementById('8bce2e26-5bbd-4487-bfb4-7610d47fff75');\n",
       "var x = new MutationObserver(function (mutations, observer) {{\n",
       "        var display = window.getComputedStyle(gd).display;\n",
       "        if (!display || display === 'none') {{\n",
       "            console.log([gd, 'removed!']);\n",
       "            Plotly.purge(gd);\n",
       "            observer.disconnect();\n",
       "        }}\n",
       "}});\n",
       "\n",
       "// Listen for the removal of the full notebook cells\n",
       "var notebookContainer = gd.closest('#notebook-container');\n",
       "if (notebookContainer) {{\n",
       "    x.observe(notebookContainer, {childList: true});\n",
       "}}\n",
       "\n",
       "// Listen for the clearing of the current output cell\n",
       "var outputEl = gd.closest('.output');\n",
       "if (outputEl) {{\n",
       "    x.observe(outputEl, {childList: true});\n",
       "}}\n",
       "\n",
       "                        })                };                });            </script>        </div>"
      ]
     },
     "metadata": {},
     "output_type": "display_data"
    }
   ],
   "source": [
    "px.histogram(\n",
    "    data_frame=perf_df[[\"unet\", \"segformer\"]],\n",
    "    barmode=\"relative\",\n",
    "    title=\"Histogram: overall prediction consistency\",\n",
    "    nbins=200,\n",
    "    width=800,\n",
    "    height=400,\n",
    ")\n"
   ]
  },
  {
   "cell_type": "code",
   "execution_count": 17,
   "metadata": {},
   "outputs": [
    {
     "data": {
      "application/vnd.plotly.v1+json": {
       "config": {
        "plotlyServerURL": "https://plot.ly"
       },
       "data": [
        {
         "alignmentgroup": "True",
         "bingroup": "x",
         "hovertemplate": "variable=unet<br>value=%{x}<br>count=%{y}<extra></extra>",
         "legendgroup": "unet",
         "marker": {
          "color": "#636efa",
          "pattern": {
           "shape": ""
          }
         },
         "name": "unet",
         "nbinsx": 200,
         "offsetgroup": "unet",
         "orientation": "v",
         "showlegend": true,
         "type": "histogram",
         "x": [
          0.8630502573917634,
          0.0953542566674389,
          0.8875804123963505,
          0.0865612565004105,
          0.9282342080970593,
          0.0103971066820429,
          0.9450597064762843,
          0.1262462828985228,
          0.3676721083191386,
          0.3976472045451776,
          0.8763002268064806,
          0.7041544429758105,
          0.3539975336939167,
          0.0502392604676454,
          0.6495316879030661,
          0.1883559228281973,
          0.5393088487651425,
          0.9103475424304652,
          0.9231913706527805,
          0.4534834362121721,
          0.0983278796610583,
          0.3057365182772349,
          0.9810826919588485,
          0.1479880482136686,
          0.0028902522726366,
          0.4622178018501653,
          0.3715321942124486,
          0.0351423831411701,
          0.6681575452007265,
          0.1744949778600185,
          0.0167795594828943,
          0.1024014724552788,
          0,
          0.9768590175998038,
          0.1951788491446345,
          0.2497464036980808,
          0.3159329957148422,
          0.3812529356505401,
          0.0756247690239646,
          0.1014448927906559,
          0.2839520627315356,
          0.2103709311127933,
          0.7371636475342952,
          0.2003935269364642,
          0.5313888002043292,
          0.3045296607492577,
          0.6747311363612809,
          0.5681995288250216,
          0.1431171889084415,
          0.3941765565938553,
          0.2270359520639147,
          0.8397948972593926,
          0.1153559833651721,
          0.7928093462044756,
          0.9790330640459732,
          0.7664310422619943,
          0.179459193538238,
          0.5961511047754812,
          0.9826228490587828,
          0.0433502460859834,
          0.0189321461969145,
          0.5945464911777926,
          0.1804290028651816,
          0.0703875939519089,
          0.00004055602307637713,
          0.5935693461576796,
          0.4256890523862344,
          0.1434609444850849,
          0.0030254124897608,
          0.7783535918196829,
          0.0832637276463571,
          0.9606786356175884,
          0.8101581815126857,
          0.744362015711606
         ],
         "xaxis": "x",
         "yaxis": "y"
        },
        {
         "alignmentgroup": "True",
         "bingroup": "x",
         "hovertemplate": "variable=segformer<br>value=%{x}<br>count=%{y}<extra></extra>",
         "legendgroup": "segformer",
         "marker": {
          "color": "#EF553B",
          "pattern": {
           "shape": ""
          }
         },
         "name": "segformer",
         "nbinsx": 200,
         "offsetgroup": "segformer",
         "orientation": "v",
         "showlegend": true,
         "type": "histogram",
         "x": [
          1,
          0.1265642924371968,
          0.9951757972984848,
          0.2356413434212467,
          1,
          0.0009716329989979,
          0.9912663492753416,
          0.3905245325665434,
          0.6198975533708759,
          0.6734270141148057,
          0.9999118922936154,
          0.9318114380091258,
          0.7269808182440921,
          0.553100169950861,
          0.9614986412259328,
          0.5815834912637317,
          0.9775658226819914,
          1,
          1,
          0.8626080645357327,
          0.0639232518479105,
          0.5007200808054478,
          0.9985745013746414,
          0.994255555068518,
          0.1671345814254611,
          0.8307724213037334,
          0.9945114329934642,
          0.6900255994964866,
          1,
          0.5245665051389943,
          0.2149178617253925,
          0.1452681346213409,
          0,
          0.9971833412291656,
          0.9991373589913736,
          0.0978145066578826,
          0.9317862196023784,
          0.922154060435551,
          0.5557985253107186,
          0.8677806442377413,
          0.5702179594327483,
          0.9883725811190864,
          0.969727109535837,
          0.2680137545642563,
          0.9985917315539824,
          0.3124892790868121,
          0.6606020586221083,
          0.9372144262675938,
          0.3463617916706473,
          0.6894385460942594,
          0.822067230030959,
          0.937953746987882,
          0.0702682311948413,
          0.9845183884176192,
          0.9942993276297007,
          0.9988054889046216,
          0.2069615766962849,
          0.9998526015820765,
          0.9976222359565994,
          1,
          0.2392408390082668,
          0.92926295982668,
          0.0327639008347189,
          0.0233263145636085,
          0.0029545677502005,
          0.9779434614756352,
          1,
          0.1289645338116608,
          0,
          0.6884730534209358,
          0.5412393317330737,
          1,
          0.896316889728854,
          0.9999023772082491
         ],
         "xaxis": "x",
         "yaxis": "y"
        }
       ],
       "layout": {
        "barmode": "relative",
        "height": 400,
        "legend": {
         "title": {
          "text": "variable"
         },
         "tracegroupgap": 0
        },
        "template": {
         "data": {
          "bar": [
           {
            "error_x": {
             "color": "#2a3f5f"
            },
            "error_y": {
             "color": "#2a3f5f"
            },
            "marker": {
             "line": {
              "color": "#E5ECF6",
              "width": 0.5
             },
             "pattern": {
              "fillmode": "overlay",
              "size": 10,
              "solidity": 0.2
             }
            },
            "type": "bar"
           }
          ],
          "barpolar": [
           {
            "marker": {
             "line": {
              "color": "#E5ECF6",
              "width": 0.5
             },
             "pattern": {
              "fillmode": "overlay",
              "size": 10,
              "solidity": 0.2
             }
            },
            "type": "barpolar"
           }
          ],
          "carpet": [
           {
            "aaxis": {
             "endlinecolor": "#2a3f5f",
             "gridcolor": "white",
             "linecolor": "white",
             "minorgridcolor": "white",
             "startlinecolor": "#2a3f5f"
            },
            "baxis": {
             "endlinecolor": "#2a3f5f",
             "gridcolor": "white",
             "linecolor": "white",
             "minorgridcolor": "white",
             "startlinecolor": "#2a3f5f"
            },
            "type": "carpet"
           }
          ],
          "choropleth": [
           {
            "colorbar": {
             "outlinewidth": 0,
             "ticks": ""
            },
            "type": "choropleth"
           }
          ],
          "contour": [
           {
            "colorbar": {
             "outlinewidth": 0,
             "ticks": ""
            },
            "colorscale": [
             [
              0,
              "#0d0887"
             ],
             [
              0.1111111111111111,
              "#46039f"
             ],
             [
              0.2222222222222222,
              "#7201a8"
             ],
             [
              0.3333333333333333,
              "#9c179e"
             ],
             [
              0.4444444444444444,
              "#bd3786"
             ],
             [
              0.5555555555555556,
              "#d8576b"
             ],
             [
              0.6666666666666666,
              "#ed7953"
             ],
             [
              0.7777777777777778,
              "#fb9f3a"
             ],
             [
              0.8888888888888888,
              "#fdca26"
             ],
             [
              1,
              "#f0f921"
             ]
            ],
            "type": "contour"
           }
          ],
          "contourcarpet": [
           {
            "colorbar": {
             "outlinewidth": 0,
             "ticks": ""
            },
            "type": "contourcarpet"
           }
          ],
          "heatmap": [
           {
            "colorbar": {
             "outlinewidth": 0,
             "ticks": ""
            },
            "colorscale": [
             [
              0,
              "#0d0887"
             ],
             [
              0.1111111111111111,
              "#46039f"
             ],
             [
              0.2222222222222222,
              "#7201a8"
             ],
             [
              0.3333333333333333,
              "#9c179e"
             ],
             [
              0.4444444444444444,
              "#bd3786"
             ],
             [
              0.5555555555555556,
              "#d8576b"
             ],
             [
              0.6666666666666666,
              "#ed7953"
             ],
             [
              0.7777777777777778,
              "#fb9f3a"
             ],
             [
              0.8888888888888888,
              "#fdca26"
             ],
             [
              1,
              "#f0f921"
             ]
            ],
            "type": "heatmap"
           }
          ],
          "heatmapgl": [
           {
            "colorbar": {
             "outlinewidth": 0,
             "ticks": ""
            },
            "colorscale": [
             [
              0,
              "#0d0887"
             ],
             [
              0.1111111111111111,
              "#46039f"
             ],
             [
              0.2222222222222222,
              "#7201a8"
             ],
             [
              0.3333333333333333,
              "#9c179e"
             ],
             [
              0.4444444444444444,
              "#bd3786"
             ],
             [
              0.5555555555555556,
              "#d8576b"
             ],
             [
              0.6666666666666666,
              "#ed7953"
             ],
             [
              0.7777777777777778,
              "#fb9f3a"
             ],
             [
              0.8888888888888888,
              "#fdca26"
             ],
             [
              1,
              "#f0f921"
             ]
            ],
            "type": "heatmapgl"
           }
          ],
          "histogram": [
           {
            "marker": {
             "pattern": {
              "fillmode": "overlay",
              "size": 10,
              "solidity": 0.2
             }
            },
            "type": "histogram"
           }
          ],
          "histogram2d": [
           {
            "colorbar": {
             "outlinewidth": 0,
             "ticks": ""
            },
            "colorscale": [
             [
              0,
              "#0d0887"
             ],
             [
              0.1111111111111111,
              "#46039f"
             ],
             [
              0.2222222222222222,
              "#7201a8"
             ],
             [
              0.3333333333333333,
              "#9c179e"
             ],
             [
              0.4444444444444444,
              "#bd3786"
             ],
             [
              0.5555555555555556,
              "#d8576b"
             ],
             [
              0.6666666666666666,
              "#ed7953"
             ],
             [
              0.7777777777777778,
              "#fb9f3a"
             ],
             [
              0.8888888888888888,
              "#fdca26"
             ],
             [
              1,
              "#f0f921"
             ]
            ],
            "type": "histogram2d"
           }
          ],
          "histogram2dcontour": [
           {
            "colorbar": {
             "outlinewidth": 0,
             "ticks": ""
            },
            "colorscale": [
             [
              0,
              "#0d0887"
             ],
             [
              0.1111111111111111,
              "#46039f"
             ],
             [
              0.2222222222222222,
              "#7201a8"
             ],
             [
              0.3333333333333333,
              "#9c179e"
             ],
             [
              0.4444444444444444,
              "#bd3786"
             ],
             [
              0.5555555555555556,
              "#d8576b"
             ],
             [
              0.6666666666666666,
              "#ed7953"
             ],
             [
              0.7777777777777778,
              "#fb9f3a"
             ],
             [
              0.8888888888888888,
              "#fdca26"
             ],
             [
              1,
              "#f0f921"
             ]
            ],
            "type": "histogram2dcontour"
           }
          ],
          "mesh3d": [
           {
            "colorbar": {
             "outlinewidth": 0,
             "ticks": ""
            },
            "type": "mesh3d"
           }
          ],
          "parcoords": [
           {
            "line": {
             "colorbar": {
              "outlinewidth": 0,
              "ticks": ""
             }
            },
            "type": "parcoords"
           }
          ],
          "pie": [
           {
            "automargin": true,
            "type": "pie"
           }
          ],
          "scatter": [
           {
            "fillpattern": {
             "fillmode": "overlay",
             "size": 10,
             "solidity": 0.2
            },
            "type": "scatter"
           }
          ],
          "scatter3d": [
           {
            "line": {
             "colorbar": {
              "outlinewidth": 0,
              "ticks": ""
             }
            },
            "marker": {
             "colorbar": {
              "outlinewidth": 0,
              "ticks": ""
             }
            },
            "type": "scatter3d"
           }
          ],
          "scattercarpet": [
           {
            "marker": {
             "colorbar": {
              "outlinewidth": 0,
              "ticks": ""
             }
            },
            "type": "scattercarpet"
           }
          ],
          "scattergeo": [
           {
            "marker": {
             "colorbar": {
              "outlinewidth": 0,
              "ticks": ""
             }
            },
            "type": "scattergeo"
           }
          ],
          "scattergl": [
           {
            "marker": {
             "colorbar": {
              "outlinewidth": 0,
              "ticks": ""
             }
            },
            "type": "scattergl"
           }
          ],
          "scattermapbox": [
           {
            "marker": {
             "colorbar": {
              "outlinewidth": 0,
              "ticks": ""
             }
            },
            "type": "scattermapbox"
           }
          ],
          "scatterpolar": [
           {
            "marker": {
             "colorbar": {
              "outlinewidth": 0,
              "ticks": ""
             }
            },
            "type": "scatterpolar"
           }
          ],
          "scatterpolargl": [
           {
            "marker": {
             "colorbar": {
              "outlinewidth": 0,
              "ticks": ""
             }
            },
            "type": "scatterpolargl"
           }
          ],
          "scatterternary": [
           {
            "marker": {
             "colorbar": {
              "outlinewidth": 0,
              "ticks": ""
             }
            },
            "type": "scatterternary"
           }
          ],
          "surface": [
           {
            "colorbar": {
             "outlinewidth": 0,
             "ticks": ""
            },
            "colorscale": [
             [
              0,
              "#0d0887"
             ],
             [
              0.1111111111111111,
              "#46039f"
             ],
             [
              0.2222222222222222,
              "#7201a8"
             ],
             [
              0.3333333333333333,
              "#9c179e"
             ],
             [
              0.4444444444444444,
              "#bd3786"
             ],
             [
              0.5555555555555556,
              "#d8576b"
             ],
             [
              0.6666666666666666,
              "#ed7953"
             ],
             [
              0.7777777777777778,
              "#fb9f3a"
             ],
             [
              0.8888888888888888,
              "#fdca26"
             ],
             [
              1,
              "#f0f921"
             ]
            ],
            "type": "surface"
           }
          ],
          "table": [
           {
            "cells": {
             "fill": {
              "color": "#EBF0F8"
             },
             "line": {
              "color": "white"
             }
            },
            "header": {
             "fill": {
              "color": "#C8D4E3"
             },
             "line": {
              "color": "white"
             }
            },
            "type": "table"
           }
          ]
         },
         "layout": {
          "annotationdefaults": {
           "arrowcolor": "#2a3f5f",
           "arrowhead": 0,
           "arrowwidth": 1
          },
          "autotypenumbers": "strict",
          "coloraxis": {
           "colorbar": {
            "outlinewidth": 0,
            "ticks": ""
           }
          },
          "colorscale": {
           "diverging": [
            [
             0,
             "#8e0152"
            ],
            [
             0.1,
             "#c51b7d"
            ],
            [
             0.2,
             "#de77ae"
            ],
            [
             0.3,
             "#f1b6da"
            ],
            [
             0.4,
             "#fde0ef"
            ],
            [
             0.5,
             "#f7f7f7"
            ],
            [
             0.6,
             "#e6f5d0"
            ],
            [
             0.7,
             "#b8e186"
            ],
            [
             0.8,
             "#7fbc41"
            ],
            [
             0.9,
             "#4d9221"
            ],
            [
             1,
             "#276419"
            ]
           ],
           "sequential": [
            [
             0,
             "#0d0887"
            ],
            [
             0.1111111111111111,
             "#46039f"
            ],
            [
             0.2222222222222222,
             "#7201a8"
            ],
            [
             0.3333333333333333,
             "#9c179e"
            ],
            [
             0.4444444444444444,
             "#bd3786"
            ],
            [
             0.5555555555555556,
             "#d8576b"
            ],
            [
             0.6666666666666666,
             "#ed7953"
            ],
            [
             0.7777777777777778,
             "#fb9f3a"
            ],
            [
             0.8888888888888888,
             "#fdca26"
            ],
            [
             1,
             "#f0f921"
            ]
           ],
           "sequentialminus": [
            [
             0,
             "#0d0887"
            ],
            [
             0.1111111111111111,
             "#46039f"
            ],
            [
             0.2222222222222222,
             "#7201a8"
            ],
            [
             0.3333333333333333,
             "#9c179e"
            ],
            [
             0.4444444444444444,
             "#bd3786"
            ],
            [
             0.5555555555555556,
             "#d8576b"
            ],
            [
             0.6666666666666666,
             "#ed7953"
            ],
            [
             0.7777777777777778,
             "#fb9f3a"
            ],
            [
             0.8888888888888888,
             "#fdca26"
            ],
            [
             1,
             "#f0f921"
            ]
           ]
          },
          "colorway": [
           "#636efa",
           "#EF553B",
           "#00cc96",
           "#ab63fa",
           "#FFA15A",
           "#19d3f3",
           "#FF6692",
           "#B6E880",
           "#FF97FF",
           "#FECB52"
          ],
          "font": {
           "color": "#2a3f5f"
          },
          "geo": {
           "bgcolor": "white",
           "lakecolor": "white",
           "landcolor": "#E5ECF6",
           "showlakes": true,
           "showland": true,
           "subunitcolor": "white"
          },
          "hoverlabel": {
           "align": "left"
          },
          "hovermode": "closest",
          "mapbox": {
           "style": "light"
          },
          "paper_bgcolor": "white",
          "plot_bgcolor": "#E5ECF6",
          "polar": {
           "angularaxis": {
            "gridcolor": "white",
            "linecolor": "white",
            "ticks": ""
           },
           "bgcolor": "#E5ECF6",
           "radialaxis": {
            "gridcolor": "white",
            "linecolor": "white",
            "ticks": ""
           }
          },
          "scene": {
           "xaxis": {
            "backgroundcolor": "#E5ECF6",
            "gridcolor": "white",
            "gridwidth": 2,
            "linecolor": "white",
            "showbackground": true,
            "ticks": "",
            "zerolinecolor": "white"
           },
           "yaxis": {
            "backgroundcolor": "#E5ECF6",
            "gridcolor": "white",
            "gridwidth": 2,
            "linecolor": "white",
            "showbackground": true,
            "ticks": "",
            "zerolinecolor": "white"
           },
           "zaxis": {
            "backgroundcolor": "#E5ECF6",
            "gridcolor": "white",
            "gridwidth": 2,
            "linecolor": "white",
            "showbackground": true,
            "ticks": "",
            "zerolinecolor": "white"
           }
          },
          "shapedefaults": {
           "line": {
            "color": "#2a3f5f"
           }
          },
          "ternary": {
           "aaxis": {
            "gridcolor": "white",
            "linecolor": "white",
            "ticks": ""
           },
           "baxis": {
            "gridcolor": "white",
            "linecolor": "white",
            "ticks": ""
           },
           "bgcolor": "#E5ECF6",
           "caxis": {
            "gridcolor": "white",
            "linecolor": "white",
            "ticks": ""
           }
          },
          "title": {
           "x": 0.05
          },
          "xaxis": {
           "automargin": true,
           "gridcolor": "white",
           "linecolor": "white",
           "ticks": "",
           "title": {
            "standoff": 15
           },
           "zerolinecolor": "white",
           "zerolinewidth": 2
          },
          "yaxis": {
           "automargin": true,
           "gridcolor": "white",
           "linecolor": "white",
           "ticks": "",
           "title": {
            "standoff": 15
           },
           "zerolinecolor": "white",
           "zerolinewidth": 2
          }
         }
        },
        "title": {
         "text": "Histogram: benign prediction consistency"
        },
        "width": 800,
        "xaxis": {
         "anchor": "y",
         "domain": [
          0,
          1
         ],
         "title": {
          "text": "value"
         }
        },
        "yaxis": {
         "anchor": "x",
         "domain": [
          0,
          1
         ],
         "title": {
          "text": "count"
         }
        }
       }
      },
      "text/html": [
       "<div>                            <div id=\"19a84308-09cf-4c53-942b-ebf517ef534f\" class=\"plotly-graph-div\" style=\"height:400px; width:800px;\"></div>            <script type=\"text/javascript\">                require([\"plotly\"], function(Plotly) {                    window.PLOTLYENV=window.PLOTLYENV || {};                                    if (document.getElementById(\"19a84308-09cf-4c53-942b-ebf517ef534f\")) {                    Plotly.newPlot(                        \"19a84308-09cf-4c53-942b-ebf517ef534f\",                        [{\"alignmentgroup\":\"True\",\"bingroup\":\"x\",\"hovertemplate\":\"variable=unet<br>value=%{x}<br>count=%{y}<extra></extra>\",\"legendgroup\":\"unet\",\"marker\":{\"color\":\"#636efa\",\"pattern\":{\"shape\":\"\"}},\"name\":\"unet\",\"nbinsx\":200,\"offsetgroup\":\"unet\",\"orientation\":\"v\",\"showlegend\":true,\"x\":[0.8630502573917634,0.0953542566674389,0.8875804123963505,0.0865612565004105,0.9282342080970593,0.0103971066820429,0.9450597064762843,0.1262462828985228,0.3676721083191386,0.3976472045451776,0.8763002268064806,0.7041544429758105,0.3539975336939167,0.0502392604676454,0.6495316879030661,0.1883559228281973,0.5393088487651425,0.9103475424304652,0.9231913706527805,0.4534834362121721,0.0983278796610583,0.3057365182772349,0.9810826919588485,0.1479880482136686,0.0028902522726366,0.4622178018501653,0.3715321942124486,0.0351423831411701,0.6681575452007265,0.1744949778600185,0.0167795594828943,0.1024014724552788,0.0,0.9768590175998038,0.1951788491446345,0.2497464036980808,0.3159329957148422,0.3812529356505401,0.0756247690239646,0.1014448927906559,0.2839520627315356,0.2103709311127933,0.7371636475342952,0.2003935269364642,0.5313888002043292,0.3045296607492577,0.6747311363612809,0.5681995288250216,0.1431171889084415,0.3941765565938553,0.2270359520639147,0.8397948972593926,0.1153559833651721,0.7928093462044756,0.9790330640459732,0.7664310422619943,0.179459193538238,0.5961511047754812,0.9826228490587828,0.0433502460859834,0.0189321461969145,0.5945464911777926,0.1804290028651816,0.0703875939519089,4.055602307637713e-05,0.5935693461576796,0.4256890523862344,0.1434609444850849,0.0030254124897608,0.7783535918196829,0.0832637276463571,0.9606786356175884,0.8101581815126857,0.744362015711606],\"xaxis\":\"x\",\"yaxis\":\"y\",\"type\":\"histogram\"},{\"alignmentgroup\":\"True\",\"bingroup\":\"x\",\"hovertemplate\":\"variable=segformer<br>value=%{x}<br>count=%{y}<extra></extra>\",\"legendgroup\":\"segformer\",\"marker\":{\"color\":\"#EF553B\",\"pattern\":{\"shape\":\"\"}},\"name\":\"segformer\",\"nbinsx\":200,\"offsetgroup\":\"segformer\",\"orientation\":\"v\",\"showlegend\":true,\"x\":[1.0,0.1265642924371968,0.9951757972984848,0.2356413434212467,1.0,0.0009716329989979,0.9912663492753416,0.3905245325665434,0.6198975533708759,0.6734270141148057,0.9999118922936154,0.9318114380091258,0.7269808182440921,0.553100169950861,0.9614986412259328,0.5815834912637317,0.9775658226819914,1.0,1.0,0.8626080645357327,0.0639232518479105,0.5007200808054478,0.9985745013746414,0.994255555068518,0.1671345814254611,0.8307724213037334,0.9945114329934642,0.6900255994964866,1.0,0.5245665051389943,0.2149178617253925,0.1452681346213409,0.0,0.9971833412291656,0.9991373589913736,0.0978145066578826,0.9317862196023784,0.922154060435551,0.5557985253107186,0.8677806442377413,0.5702179594327483,0.9883725811190864,0.969727109535837,0.2680137545642563,0.9985917315539824,0.3124892790868121,0.6606020586221083,0.9372144262675938,0.3463617916706473,0.6894385460942594,0.822067230030959,0.937953746987882,0.0702682311948413,0.9845183884176192,0.9942993276297007,0.9988054889046216,0.2069615766962849,0.9998526015820765,0.9976222359565994,1.0,0.2392408390082668,0.92926295982668,0.0327639008347189,0.0233263145636085,0.0029545677502005,0.9779434614756352,1.0,0.1289645338116608,0.0,0.6884730534209358,0.5412393317330737,1.0,0.896316889728854,0.9999023772082491],\"xaxis\":\"x\",\"yaxis\":\"y\",\"type\":\"histogram\"}],                        {\"template\":{\"data\":{\"histogram2dcontour\":[{\"type\":\"histogram2dcontour\",\"colorbar\":{\"outlinewidth\":0,\"ticks\":\"\"},\"colorscale\":[[0.0,\"#0d0887\"],[0.1111111111111111,\"#46039f\"],[0.2222222222222222,\"#7201a8\"],[0.3333333333333333,\"#9c179e\"],[0.4444444444444444,\"#bd3786\"],[0.5555555555555556,\"#d8576b\"],[0.6666666666666666,\"#ed7953\"],[0.7777777777777778,\"#fb9f3a\"],[0.8888888888888888,\"#fdca26\"],[1.0,\"#f0f921\"]]}],\"choropleth\":[{\"type\":\"choropleth\",\"colorbar\":{\"outlinewidth\":0,\"ticks\":\"\"}}],\"histogram2d\":[{\"type\":\"histogram2d\",\"colorbar\":{\"outlinewidth\":0,\"ticks\":\"\"},\"colorscale\":[[0.0,\"#0d0887\"],[0.1111111111111111,\"#46039f\"],[0.2222222222222222,\"#7201a8\"],[0.3333333333333333,\"#9c179e\"],[0.4444444444444444,\"#bd3786\"],[0.5555555555555556,\"#d8576b\"],[0.6666666666666666,\"#ed7953\"],[0.7777777777777778,\"#fb9f3a\"],[0.8888888888888888,\"#fdca26\"],[1.0,\"#f0f921\"]]}],\"heatmap\":[{\"type\":\"heatmap\",\"colorbar\":{\"outlinewidth\":0,\"ticks\":\"\"},\"colorscale\":[[0.0,\"#0d0887\"],[0.1111111111111111,\"#46039f\"],[0.2222222222222222,\"#7201a8\"],[0.3333333333333333,\"#9c179e\"],[0.4444444444444444,\"#bd3786\"],[0.5555555555555556,\"#d8576b\"],[0.6666666666666666,\"#ed7953\"],[0.7777777777777778,\"#fb9f3a\"],[0.8888888888888888,\"#fdca26\"],[1.0,\"#f0f921\"]]}],\"heatmapgl\":[{\"type\":\"heatmapgl\",\"colorbar\":{\"outlinewidth\":0,\"ticks\":\"\"},\"colorscale\":[[0.0,\"#0d0887\"],[0.1111111111111111,\"#46039f\"],[0.2222222222222222,\"#7201a8\"],[0.3333333333333333,\"#9c179e\"],[0.4444444444444444,\"#bd3786\"],[0.5555555555555556,\"#d8576b\"],[0.6666666666666666,\"#ed7953\"],[0.7777777777777778,\"#fb9f3a\"],[0.8888888888888888,\"#fdca26\"],[1.0,\"#f0f921\"]]}],\"contourcarpet\":[{\"type\":\"contourcarpet\",\"colorbar\":{\"outlinewidth\":0,\"ticks\":\"\"}}],\"contour\":[{\"type\":\"contour\",\"colorbar\":{\"outlinewidth\":0,\"ticks\":\"\"},\"colorscale\":[[0.0,\"#0d0887\"],[0.1111111111111111,\"#46039f\"],[0.2222222222222222,\"#7201a8\"],[0.3333333333333333,\"#9c179e\"],[0.4444444444444444,\"#bd3786\"],[0.5555555555555556,\"#d8576b\"],[0.6666666666666666,\"#ed7953\"],[0.7777777777777778,\"#fb9f3a\"],[0.8888888888888888,\"#fdca26\"],[1.0,\"#f0f921\"]]}],\"surface\":[{\"type\":\"surface\",\"colorbar\":{\"outlinewidth\":0,\"ticks\":\"\"},\"colorscale\":[[0.0,\"#0d0887\"],[0.1111111111111111,\"#46039f\"],[0.2222222222222222,\"#7201a8\"],[0.3333333333333333,\"#9c179e\"],[0.4444444444444444,\"#bd3786\"],[0.5555555555555556,\"#d8576b\"],[0.6666666666666666,\"#ed7953\"],[0.7777777777777778,\"#fb9f3a\"],[0.8888888888888888,\"#fdca26\"],[1.0,\"#f0f921\"]]}],\"mesh3d\":[{\"type\":\"mesh3d\",\"colorbar\":{\"outlinewidth\":0,\"ticks\":\"\"}}],\"scatter\":[{\"fillpattern\":{\"fillmode\":\"overlay\",\"size\":10,\"solidity\":0.2},\"type\":\"scatter\"}],\"parcoords\":[{\"type\":\"parcoords\",\"line\":{\"colorbar\":{\"outlinewidth\":0,\"ticks\":\"\"}}}],\"scatterpolargl\":[{\"type\":\"scatterpolargl\",\"marker\":{\"colorbar\":{\"outlinewidth\":0,\"ticks\":\"\"}}}],\"bar\":[{\"error_x\":{\"color\":\"#2a3f5f\"},\"error_y\":{\"color\":\"#2a3f5f\"},\"marker\":{\"line\":{\"color\":\"#E5ECF6\",\"width\":0.5},\"pattern\":{\"fillmode\":\"overlay\",\"size\":10,\"solidity\":0.2}},\"type\":\"bar\"}],\"scattergeo\":[{\"type\":\"scattergeo\",\"marker\":{\"colorbar\":{\"outlinewidth\":0,\"ticks\":\"\"}}}],\"scatterpolar\":[{\"type\":\"scatterpolar\",\"marker\":{\"colorbar\":{\"outlinewidth\":0,\"ticks\":\"\"}}}],\"histogram\":[{\"marker\":{\"pattern\":{\"fillmode\":\"overlay\",\"size\":10,\"solidity\":0.2}},\"type\":\"histogram\"}],\"scattergl\":[{\"type\":\"scattergl\",\"marker\":{\"colorbar\":{\"outlinewidth\":0,\"ticks\":\"\"}}}],\"scatter3d\":[{\"type\":\"scatter3d\",\"line\":{\"colorbar\":{\"outlinewidth\":0,\"ticks\":\"\"}},\"marker\":{\"colorbar\":{\"outlinewidth\":0,\"ticks\":\"\"}}}],\"scattermapbox\":[{\"type\":\"scattermapbox\",\"marker\":{\"colorbar\":{\"outlinewidth\":0,\"ticks\":\"\"}}}],\"scatterternary\":[{\"type\":\"scatterternary\",\"marker\":{\"colorbar\":{\"outlinewidth\":0,\"ticks\":\"\"}}}],\"scattercarpet\":[{\"type\":\"scattercarpet\",\"marker\":{\"colorbar\":{\"outlinewidth\":0,\"ticks\":\"\"}}}],\"carpet\":[{\"aaxis\":{\"endlinecolor\":\"#2a3f5f\",\"gridcolor\":\"white\",\"linecolor\":\"white\",\"minorgridcolor\":\"white\",\"startlinecolor\":\"#2a3f5f\"},\"baxis\":{\"endlinecolor\":\"#2a3f5f\",\"gridcolor\":\"white\",\"linecolor\":\"white\",\"minorgridcolor\":\"white\",\"startlinecolor\":\"#2a3f5f\"},\"type\":\"carpet\"}],\"table\":[{\"cells\":{\"fill\":{\"color\":\"#EBF0F8\"},\"line\":{\"color\":\"white\"}},\"header\":{\"fill\":{\"color\":\"#C8D4E3\"},\"line\":{\"color\":\"white\"}},\"type\":\"table\"}],\"barpolar\":[{\"marker\":{\"line\":{\"color\":\"#E5ECF6\",\"width\":0.5},\"pattern\":{\"fillmode\":\"overlay\",\"size\":10,\"solidity\":0.2}},\"type\":\"barpolar\"}],\"pie\":[{\"automargin\":true,\"type\":\"pie\"}]},\"layout\":{\"autotypenumbers\":\"strict\",\"colorway\":[\"#636efa\",\"#EF553B\",\"#00cc96\",\"#ab63fa\",\"#FFA15A\",\"#19d3f3\",\"#FF6692\",\"#B6E880\",\"#FF97FF\",\"#FECB52\"],\"font\":{\"color\":\"#2a3f5f\"},\"hovermode\":\"closest\",\"hoverlabel\":{\"align\":\"left\"},\"paper_bgcolor\":\"white\",\"plot_bgcolor\":\"#E5ECF6\",\"polar\":{\"bgcolor\":\"#E5ECF6\",\"angularaxis\":{\"gridcolor\":\"white\",\"linecolor\":\"white\",\"ticks\":\"\"},\"radialaxis\":{\"gridcolor\":\"white\",\"linecolor\":\"white\",\"ticks\":\"\"}},\"ternary\":{\"bgcolor\":\"#E5ECF6\",\"aaxis\":{\"gridcolor\":\"white\",\"linecolor\":\"white\",\"ticks\":\"\"},\"baxis\":{\"gridcolor\":\"white\",\"linecolor\":\"white\",\"ticks\":\"\"},\"caxis\":{\"gridcolor\":\"white\",\"linecolor\":\"white\",\"ticks\":\"\"}},\"coloraxis\":{\"colorbar\":{\"outlinewidth\":0,\"ticks\":\"\"}},\"colorscale\":{\"sequential\":[[0.0,\"#0d0887\"],[0.1111111111111111,\"#46039f\"],[0.2222222222222222,\"#7201a8\"],[0.3333333333333333,\"#9c179e\"],[0.4444444444444444,\"#bd3786\"],[0.5555555555555556,\"#d8576b\"],[0.6666666666666666,\"#ed7953\"],[0.7777777777777778,\"#fb9f3a\"],[0.8888888888888888,\"#fdca26\"],[1.0,\"#f0f921\"]],\"sequentialminus\":[[0.0,\"#0d0887\"],[0.1111111111111111,\"#46039f\"],[0.2222222222222222,\"#7201a8\"],[0.3333333333333333,\"#9c179e\"],[0.4444444444444444,\"#bd3786\"],[0.5555555555555556,\"#d8576b\"],[0.6666666666666666,\"#ed7953\"],[0.7777777777777778,\"#fb9f3a\"],[0.8888888888888888,\"#fdca26\"],[1.0,\"#f0f921\"]],\"diverging\":[[0,\"#8e0152\"],[0.1,\"#c51b7d\"],[0.2,\"#de77ae\"],[0.3,\"#f1b6da\"],[0.4,\"#fde0ef\"],[0.5,\"#f7f7f7\"],[0.6,\"#e6f5d0\"],[0.7,\"#b8e186\"],[0.8,\"#7fbc41\"],[0.9,\"#4d9221\"],[1,\"#276419\"]]},\"xaxis\":{\"gridcolor\":\"white\",\"linecolor\":\"white\",\"ticks\":\"\",\"title\":{\"standoff\":15},\"zerolinecolor\":\"white\",\"automargin\":true,\"zerolinewidth\":2},\"yaxis\":{\"gridcolor\":\"white\",\"linecolor\":\"white\",\"ticks\":\"\",\"title\":{\"standoff\":15},\"zerolinecolor\":\"white\",\"automargin\":true,\"zerolinewidth\":2},\"scene\":{\"xaxis\":{\"backgroundcolor\":\"#E5ECF6\",\"gridcolor\":\"white\",\"linecolor\":\"white\",\"showbackground\":true,\"ticks\":\"\",\"zerolinecolor\":\"white\",\"gridwidth\":2},\"yaxis\":{\"backgroundcolor\":\"#E5ECF6\",\"gridcolor\":\"white\",\"linecolor\":\"white\",\"showbackground\":true,\"ticks\":\"\",\"zerolinecolor\":\"white\",\"gridwidth\":2},\"zaxis\":{\"backgroundcolor\":\"#E5ECF6\",\"gridcolor\":\"white\",\"linecolor\":\"white\",\"showbackground\":true,\"ticks\":\"\",\"zerolinecolor\":\"white\",\"gridwidth\":2}},\"shapedefaults\":{\"line\":{\"color\":\"#2a3f5f\"}},\"annotationdefaults\":{\"arrowcolor\":\"#2a3f5f\",\"arrowhead\":0,\"arrowwidth\":1},\"geo\":{\"bgcolor\":\"white\",\"landcolor\":\"#E5ECF6\",\"subunitcolor\":\"white\",\"showland\":true,\"showlakes\":true,\"lakecolor\":\"white\"},\"title\":{\"x\":0.05},\"mapbox\":{\"style\":\"light\"}}},\"xaxis\":{\"anchor\":\"y\",\"domain\":[0.0,1.0],\"title\":{\"text\":\"value\"}},\"yaxis\":{\"anchor\":\"x\",\"domain\":[0.0,1.0],\"title\":{\"text\":\"count\"}},\"legend\":{\"title\":{\"text\":\"variable\"},\"tracegroupgap\":0},\"title\":{\"text\":\"Histogram: benign prediction consistency\"},\"barmode\":\"relative\",\"height\":400,\"width\":800},                        {\"responsive\": true}                    ).then(function(){\n",
       "                            \n",
       "var gd = document.getElementById('19a84308-09cf-4c53-942b-ebf517ef534f');\n",
       "var x = new MutationObserver(function (mutations, observer) {{\n",
       "        var display = window.getComputedStyle(gd).display;\n",
       "        if (!display || display === 'none') {{\n",
       "            console.log([gd, 'removed!']);\n",
       "            Plotly.purge(gd);\n",
       "            observer.disconnect();\n",
       "        }}\n",
       "}});\n",
       "\n",
       "// Listen for the removal of the full notebook cells\n",
       "var notebookContainer = gd.closest('#notebook-container');\n",
       "if (notebookContainer) {{\n",
       "    x.observe(notebookContainer, {childList: true});\n",
       "}}\n",
       "\n",
       "// Listen for the clearing of the current output cell\n",
       "var outputEl = gd.closest('.output');\n",
       "if (outputEl) {{\n",
       "    x.observe(outputEl, {childList: true});\n",
       "}}\n",
       "\n",
       "                        })                };                });            </script>        </div>"
      ]
     },
     "metadata": {},
     "output_type": "display_data"
    }
   ],
   "source": [
    "px.histogram(\n",
    "    data_frame=perf_df[[\"unet\", \"segformer\"]][perf_df[\"class\"] == \"benign\"],\n",
    "    barmode=\"relative\",\n",
    "    title=\"Histogram: benign prediction consistency\",\n",
    "    nbins=200,\n",
    "    width=800,\n",
    "    height=400,\n",
    ")\n"
   ]
  },
  {
   "cell_type": "code",
   "execution_count": 18,
   "metadata": {},
   "outputs": [
    {
     "data": {
      "application/vnd.plotly.v1+json": {
       "config": {
        "plotlyServerURL": "https://plot.ly"
       },
       "data": [
        {
         "alignmentgroup": "True",
         "bingroup": "x",
         "hovertemplate": "variable=unet<br>value=%{x}<br>count=%{y}<extra></extra>",
         "legendgroup": "unet",
         "marker": {
          "color": "#636efa",
          "pattern": {
           "shape": ""
          }
         },
         "name": "unet",
         "nbinsx": 200,
         "offsetgroup": "unet",
         "orientation": "v",
         "showlegend": true,
         "type": "histogram",
         "x": [
          0.9943767111146128,
          0.9995524208143148,
          0.9952504713017596,
          0.8450590400933866,
          0.9693110630647754,
          0.0174025870761846,
          0.9860281690663432,
          0.5869930573617975,
          0.9258036292015532,
          0.9922521394362116,
          0.4898351762410218,
          0.9978902709897652,
          0.999752759343087,
          0.9960995182400064,
          0.9391377662863244,
          0.7720642322799128,
          0.8183049860958417,
          0.9140103076232508,
          0.3554285533980965,
          0.972302915195277,
          1,
          0.8356064633949005,
          0.7236221689727139,
          0.7635530519589709,
          0.9636900251266304,
          0.9865550701443258,
          0.9863397954156886,
          0.771168103295378,
          0.7699016509812003,
          0.9879211431177036,
          0.9971404406137984,
          0.8521260952764629,
          0.3960924888424651,
          0.9355357717472916,
          0.8132190484696583,
          0.998371285265684,
          0.9317904874550884,
          0.8899808026327818,
          1,
          0.9934833441944264,
          0.8307491702228544,
          0.8802780296013086,
          0.999919237803666,
          0.0156709295667112,
          0.598094161074888,
          0.8940818229500553,
          0.8765835399348597,
          0.0209669359540268,
          0.9221118738562496,
          0.9983592307143556,
          0.950427944042462,
          0.9682816574001666,
          0.9708178007243398,
          0.9966261654546698,
          0.345364522526831,
          0.9837431486518204,
          0.6459306501817549,
          0.7837342187560326,
          1,
          0.993286352551834,
          0.905149018948582,
          0.7962803632953536,
          0.9818816931811136,
          0.9639059386209644,
          0.9999989268348174,
          0.9993292141512904,
          0.9998398483538868,
          0.5838431412701257,
          1,
          0.8077653298585484,
          0.9968994309543868,
          0.8261035292941412,
          0.7009032545304483,
          0.9999433038586084,
          0.9992417840033008,
          0.9810678538030856,
          0.9968675715447072,
          0.9939352097004472,
          0.9953213180675844,
          0.7734680684563302,
          0.4848264918258644,
          0.9984763856901232,
          0.9616444233203923,
          1,
          0.9999855322504224,
          0.98411104732578,
          0.8502777795374353,
          0.7399624223153635,
          0.6703870479763818,
          0.9917646124223084,
          0.9067914844399464,
          0.9906364039933568,
          0.944332056072542,
          0.9954954048771002,
          0.362268411693402,
          0.9402970003151764,
          0.4212461331648932,
          0.8803112185339855,
          0.9505913077911834,
          0.0966810377626375,
          0.4040604812948108,
          0.1668185322772832,
          0.9115613976810768,
          1,
          0.2350144384785453,
          0.8926750408199557,
          0.8761695081587609,
          0.982002252185574,
          0.8868966782959734,
          0.9695838815802504,
          0.97971410884835,
          0.6670389803272302
         ],
         "xaxis": "x",
         "yaxis": "y"
        },
        {
         "alignmentgroup": "True",
         "bingroup": "x",
         "hovertemplate": "variable=segformer<br>value=%{x}<br>count=%{y}<extra></extra>",
         "legendgroup": "segformer",
         "marker": {
          "color": "#EF553B",
          "pattern": {
           "shape": ""
          }
         },
         "name": "segformer",
         "nbinsx": 200,
         "offsetgroup": "segformer",
         "orientation": "v",
         "showlegend": true,
         "type": "histogram",
         "x": [
          0.999769111156486,
          0.9964653518072134,
          0.9894400561230732,
          0.8004076868586659,
          0.9812092880221416,
          0.0087631419491068,
          0.9843623964155036,
          0.0718017859348018,
          0.4439844750356825,
          0.995766479714473,
          0.629937524780423,
          0.9987923221289016,
          0.9969780855543549,
          0.9928632328999912,
          0.7576081836228213,
          0.9569301299507084,
          0.1239887279022919,
          0.9993686169971676,
          0.3560304224860875,
          0.8030003327977191,
          1,
          0.5835874058529897,
          0.4744331845212835,
          1,
          0.6792339595186766,
          0.934656971052846,
          0.6601488222282588,
          0.0182526130601262,
          0.951238183689618,
          0.9985768309669852,
          1,
          0.8505189312968627,
          0.5046089363121669,
          0.989226748802306,
          0.759092140317432,
          1,
          0.7987861016745014,
          0.3281440733872517,
          1,
          0.9892008115357692,
          0.8240328251896623,
          0.7513172768457576,
          1,
          0,
          0.473679056691642,
          0.9220012769793576,
          0.9746217597749915,
          0.011165898147236,
          0.7671930576720704,
          1,
          0.9999366187021578,
          0.5399731368008133,
          0.9905727937875806,
          0.9952552467437336,
          0.0141368995189944,
          1,
          0.7051023527542364,
          0.2209265317565552,
          0.9990909666022688,
          0.998303243953946,
          0.9279172802632124,
          0.9333817944920566,
          0.9860191815474708,
          1,
          1,
          1,
          1,
          0.331889775376636,
          1,
          0.9881977587212876,
          0.986838157347544,
          0.7277060330359509,
          0.988816982069051,
          1,
          0.9749715176461032,
          0.7607591609917332,
          1,
          0.9696465036975356,
          0.99567123578268,
          0.695978767088988,
          0.0562488360172445,
          0.9936181438353944,
          0.9367777170435256,
          0.9607413202600512,
          1,
          1,
          0.9343161146688744,
          0.4513743130289028,
          0.5203550845597431,
          0.9959115601238552,
          0.4198895815476896,
          0.9894668778756672,
          0.9275497186313528,
          1,
          0.2263879086610551,
          0.9860692630935924,
          0.0016816423312117,
          0.7537861245166863,
          0.7572528830080685,
          0,
          0.0001460950870309,
          0.3009628729023835,
          0.5189121187794874,
          1,
          0.0182511279483284,
          0.9886859772743604,
          0.1239028238929616,
          0.7658097333300331,
          0.848553330023018,
          0.8183586551864291,
          0.997319592386439,
          0.7685434641654825
         ],
         "xaxis": "x",
         "yaxis": "y"
        }
       ],
       "layout": {
        "barmode": "relative",
        "height": 400,
        "legend": {
         "title": {
          "text": "variable"
         },
         "tracegroupgap": 0
        },
        "template": {
         "data": {
          "bar": [
           {
            "error_x": {
             "color": "#2a3f5f"
            },
            "error_y": {
             "color": "#2a3f5f"
            },
            "marker": {
             "line": {
              "color": "#E5ECF6",
              "width": 0.5
             },
             "pattern": {
              "fillmode": "overlay",
              "size": 10,
              "solidity": 0.2
             }
            },
            "type": "bar"
           }
          ],
          "barpolar": [
           {
            "marker": {
             "line": {
              "color": "#E5ECF6",
              "width": 0.5
             },
             "pattern": {
              "fillmode": "overlay",
              "size": 10,
              "solidity": 0.2
             }
            },
            "type": "barpolar"
           }
          ],
          "carpet": [
           {
            "aaxis": {
             "endlinecolor": "#2a3f5f",
             "gridcolor": "white",
             "linecolor": "white",
             "minorgridcolor": "white",
             "startlinecolor": "#2a3f5f"
            },
            "baxis": {
             "endlinecolor": "#2a3f5f",
             "gridcolor": "white",
             "linecolor": "white",
             "minorgridcolor": "white",
             "startlinecolor": "#2a3f5f"
            },
            "type": "carpet"
           }
          ],
          "choropleth": [
           {
            "colorbar": {
             "outlinewidth": 0,
             "ticks": ""
            },
            "type": "choropleth"
           }
          ],
          "contour": [
           {
            "colorbar": {
             "outlinewidth": 0,
             "ticks": ""
            },
            "colorscale": [
             [
              0,
              "#0d0887"
             ],
             [
              0.1111111111111111,
              "#46039f"
             ],
             [
              0.2222222222222222,
              "#7201a8"
             ],
             [
              0.3333333333333333,
              "#9c179e"
             ],
             [
              0.4444444444444444,
              "#bd3786"
             ],
             [
              0.5555555555555556,
              "#d8576b"
             ],
             [
              0.6666666666666666,
              "#ed7953"
             ],
             [
              0.7777777777777778,
              "#fb9f3a"
             ],
             [
              0.8888888888888888,
              "#fdca26"
             ],
             [
              1,
              "#f0f921"
             ]
            ],
            "type": "contour"
           }
          ],
          "contourcarpet": [
           {
            "colorbar": {
             "outlinewidth": 0,
             "ticks": ""
            },
            "type": "contourcarpet"
           }
          ],
          "heatmap": [
           {
            "colorbar": {
             "outlinewidth": 0,
             "ticks": ""
            },
            "colorscale": [
             [
              0,
              "#0d0887"
             ],
             [
              0.1111111111111111,
              "#46039f"
             ],
             [
              0.2222222222222222,
              "#7201a8"
             ],
             [
              0.3333333333333333,
              "#9c179e"
             ],
             [
              0.4444444444444444,
              "#bd3786"
             ],
             [
              0.5555555555555556,
              "#d8576b"
             ],
             [
              0.6666666666666666,
              "#ed7953"
             ],
             [
              0.7777777777777778,
              "#fb9f3a"
             ],
             [
              0.8888888888888888,
              "#fdca26"
             ],
             [
              1,
              "#f0f921"
             ]
            ],
            "type": "heatmap"
           }
          ],
          "heatmapgl": [
           {
            "colorbar": {
             "outlinewidth": 0,
             "ticks": ""
            },
            "colorscale": [
             [
              0,
              "#0d0887"
             ],
             [
              0.1111111111111111,
              "#46039f"
             ],
             [
              0.2222222222222222,
              "#7201a8"
             ],
             [
              0.3333333333333333,
              "#9c179e"
             ],
             [
              0.4444444444444444,
              "#bd3786"
             ],
             [
              0.5555555555555556,
              "#d8576b"
             ],
             [
              0.6666666666666666,
              "#ed7953"
             ],
             [
              0.7777777777777778,
              "#fb9f3a"
             ],
             [
              0.8888888888888888,
              "#fdca26"
             ],
             [
              1,
              "#f0f921"
             ]
            ],
            "type": "heatmapgl"
           }
          ],
          "histogram": [
           {
            "marker": {
             "pattern": {
              "fillmode": "overlay",
              "size": 10,
              "solidity": 0.2
             }
            },
            "type": "histogram"
           }
          ],
          "histogram2d": [
           {
            "colorbar": {
             "outlinewidth": 0,
             "ticks": ""
            },
            "colorscale": [
             [
              0,
              "#0d0887"
             ],
             [
              0.1111111111111111,
              "#46039f"
             ],
             [
              0.2222222222222222,
              "#7201a8"
             ],
             [
              0.3333333333333333,
              "#9c179e"
             ],
             [
              0.4444444444444444,
              "#bd3786"
             ],
             [
              0.5555555555555556,
              "#d8576b"
             ],
             [
              0.6666666666666666,
              "#ed7953"
             ],
             [
              0.7777777777777778,
              "#fb9f3a"
             ],
             [
              0.8888888888888888,
              "#fdca26"
             ],
             [
              1,
              "#f0f921"
             ]
            ],
            "type": "histogram2d"
           }
          ],
          "histogram2dcontour": [
           {
            "colorbar": {
             "outlinewidth": 0,
             "ticks": ""
            },
            "colorscale": [
             [
              0,
              "#0d0887"
             ],
             [
              0.1111111111111111,
              "#46039f"
             ],
             [
              0.2222222222222222,
              "#7201a8"
             ],
             [
              0.3333333333333333,
              "#9c179e"
             ],
             [
              0.4444444444444444,
              "#bd3786"
             ],
             [
              0.5555555555555556,
              "#d8576b"
             ],
             [
              0.6666666666666666,
              "#ed7953"
             ],
             [
              0.7777777777777778,
              "#fb9f3a"
             ],
             [
              0.8888888888888888,
              "#fdca26"
             ],
             [
              1,
              "#f0f921"
             ]
            ],
            "type": "histogram2dcontour"
           }
          ],
          "mesh3d": [
           {
            "colorbar": {
             "outlinewidth": 0,
             "ticks": ""
            },
            "type": "mesh3d"
           }
          ],
          "parcoords": [
           {
            "line": {
             "colorbar": {
              "outlinewidth": 0,
              "ticks": ""
             }
            },
            "type": "parcoords"
           }
          ],
          "pie": [
           {
            "automargin": true,
            "type": "pie"
           }
          ],
          "scatter": [
           {
            "fillpattern": {
             "fillmode": "overlay",
             "size": 10,
             "solidity": 0.2
            },
            "type": "scatter"
           }
          ],
          "scatter3d": [
           {
            "line": {
             "colorbar": {
              "outlinewidth": 0,
              "ticks": ""
             }
            },
            "marker": {
             "colorbar": {
              "outlinewidth": 0,
              "ticks": ""
             }
            },
            "type": "scatter3d"
           }
          ],
          "scattercarpet": [
           {
            "marker": {
             "colorbar": {
              "outlinewidth": 0,
              "ticks": ""
             }
            },
            "type": "scattercarpet"
           }
          ],
          "scattergeo": [
           {
            "marker": {
             "colorbar": {
              "outlinewidth": 0,
              "ticks": ""
             }
            },
            "type": "scattergeo"
           }
          ],
          "scattergl": [
           {
            "marker": {
             "colorbar": {
              "outlinewidth": 0,
              "ticks": ""
             }
            },
            "type": "scattergl"
           }
          ],
          "scattermapbox": [
           {
            "marker": {
             "colorbar": {
              "outlinewidth": 0,
              "ticks": ""
             }
            },
            "type": "scattermapbox"
           }
          ],
          "scatterpolar": [
           {
            "marker": {
             "colorbar": {
              "outlinewidth": 0,
              "ticks": ""
             }
            },
            "type": "scatterpolar"
           }
          ],
          "scatterpolargl": [
           {
            "marker": {
             "colorbar": {
              "outlinewidth": 0,
              "ticks": ""
             }
            },
            "type": "scatterpolargl"
           }
          ],
          "scatterternary": [
           {
            "marker": {
             "colorbar": {
              "outlinewidth": 0,
              "ticks": ""
             }
            },
            "type": "scatterternary"
           }
          ],
          "surface": [
           {
            "colorbar": {
             "outlinewidth": 0,
             "ticks": ""
            },
            "colorscale": [
             [
              0,
              "#0d0887"
             ],
             [
              0.1111111111111111,
              "#46039f"
             ],
             [
              0.2222222222222222,
              "#7201a8"
             ],
             [
              0.3333333333333333,
              "#9c179e"
             ],
             [
              0.4444444444444444,
              "#bd3786"
             ],
             [
              0.5555555555555556,
              "#d8576b"
             ],
             [
              0.6666666666666666,
              "#ed7953"
             ],
             [
              0.7777777777777778,
              "#fb9f3a"
             ],
             [
              0.8888888888888888,
              "#fdca26"
             ],
             [
              1,
              "#f0f921"
             ]
            ],
            "type": "surface"
           }
          ],
          "table": [
           {
            "cells": {
             "fill": {
              "color": "#EBF0F8"
             },
             "line": {
              "color": "white"
             }
            },
            "header": {
             "fill": {
              "color": "#C8D4E3"
             },
             "line": {
              "color": "white"
             }
            },
            "type": "table"
           }
          ]
         },
         "layout": {
          "annotationdefaults": {
           "arrowcolor": "#2a3f5f",
           "arrowhead": 0,
           "arrowwidth": 1
          },
          "autotypenumbers": "strict",
          "coloraxis": {
           "colorbar": {
            "outlinewidth": 0,
            "ticks": ""
           }
          },
          "colorscale": {
           "diverging": [
            [
             0,
             "#8e0152"
            ],
            [
             0.1,
             "#c51b7d"
            ],
            [
             0.2,
             "#de77ae"
            ],
            [
             0.3,
             "#f1b6da"
            ],
            [
             0.4,
             "#fde0ef"
            ],
            [
             0.5,
             "#f7f7f7"
            ],
            [
             0.6,
             "#e6f5d0"
            ],
            [
             0.7,
             "#b8e186"
            ],
            [
             0.8,
             "#7fbc41"
            ],
            [
             0.9,
             "#4d9221"
            ],
            [
             1,
             "#276419"
            ]
           ],
           "sequential": [
            [
             0,
             "#0d0887"
            ],
            [
             0.1111111111111111,
             "#46039f"
            ],
            [
             0.2222222222222222,
             "#7201a8"
            ],
            [
             0.3333333333333333,
             "#9c179e"
            ],
            [
             0.4444444444444444,
             "#bd3786"
            ],
            [
             0.5555555555555556,
             "#d8576b"
            ],
            [
             0.6666666666666666,
             "#ed7953"
            ],
            [
             0.7777777777777778,
             "#fb9f3a"
            ],
            [
             0.8888888888888888,
             "#fdca26"
            ],
            [
             1,
             "#f0f921"
            ]
           ],
           "sequentialminus": [
            [
             0,
             "#0d0887"
            ],
            [
             0.1111111111111111,
             "#46039f"
            ],
            [
             0.2222222222222222,
             "#7201a8"
            ],
            [
             0.3333333333333333,
             "#9c179e"
            ],
            [
             0.4444444444444444,
             "#bd3786"
            ],
            [
             0.5555555555555556,
             "#d8576b"
            ],
            [
             0.6666666666666666,
             "#ed7953"
            ],
            [
             0.7777777777777778,
             "#fb9f3a"
            ],
            [
             0.8888888888888888,
             "#fdca26"
            ],
            [
             1,
             "#f0f921"
            ]
           ]
          },
          "colorway": [
           "#636efa",
           "#EF553B",
           "#00cc96",
           "#ab63fa",
           "#FFA15A",
           "#19d3f3",
           "#FF6692",
           "#B6E880",
           "#FF97FF",
           "#FECB52"
          ],
          "font": {
           "color": "#2a3f5f"
          },
          "geo": {
           "bgcolor": "white",
           "lakecolor": "white",
           "landcolor": "#E5ECF6",
           "showlakes": true,
           "showland": true,
           "subunitcolor": "white"
          },
          "hoverlabel": {
           "align": "left"
          },
          "hovermode": "closest",
          "mapbox": {
           "style": "light"
          },
          "paper_bgcolor": "white",
          "plot_bgcolor": "#E5ECF6",
          "polar": {
           "angularaxis": {
            "gridcolor": "white",
            "linecolor": "white",
            "ticks": ""
           },
           "bgcolor": "#E5ECF6",
           "radialaxis": {
            "gridcolor": "white",
            "linecolor": "white",
            "ticks": ""
           }
          },
          "scene": {
           "xaxis": {
            "backgroundcolor": "#E5ECF6",
            "gridcolor": "white",
            "gridwidth": 2,
            "linecolor": "white",
            "showbackground": true,
            "ticks": "",
            "zerolinecolor": "white"
           },
           "yaxis": {
            "backgroundcolor": "#E5ECF6",
            "gridcolor": "white",
            "gridwidth": 2,
            "linecolor": "white",
            "showbackground": true,
            "ticks": "",
            "zerolinecolor": "white"
           },
           "zaxis": {
            "backgroundcolor": "#E5ECF6",
            "gridcolor": "white",
            "gridwidth": 2,
            "linecolor": "white",
            "showbackground": true,
            "ticks": "",
            "zerolinecolor": "white"
           }
          },
          "shapedefaults": {
           "line": {
            "color": "#2a3f5f"
           }
          },
          "ternary": {
           "aaxis": {
            "gridcolor": "white",
            "linecolor": "white",
            "ticks": ""
           },
           "baxis": {
            "gridcolor": "white",
            "linecolor": "white",
            "ticks": ""
           },
           "bgcolor": "#E5ECF6",
           "caxis": {
            "gridcolor": "white",
            "linecolor": "white",
            "ticks": ""
           }
          },
          "title": {
           "x": 0.05
          },
          "xaxis": {
           "automargin": true,
           "gridcolor": "white",
           "linecolor": "white",
           "ticks": "",
           "title": {
            "standoff": 15
           },
           "zerolinecolor": "white",
           "zerolinewidth": 2
          },
          "yaxis": {
           "automargin": true,
           "gridcolor": "white",
           "linecolor": "white",
           "ticks": "",
           "title": {
            "standoff": 15
           },
           "zerolinecolor": "white",
           "zerolinewidth": 2
          }
         }
        },
        "title": {
         "text": "Histogram: malignant prediction consistency"
        },
        "width": 800,
        "xaxis": {
         "anchor": "y",
         "domain": [
          0,
          1
         ],
         "title": {
          "text": "value"
         }
        },
        "yaxis": {
         "anchor": "x",
         "domain": [
          0,
          1
         ],
         "title": {
          "text": "count"
         }
        }
       }
      },
      "text/html": [
       "<div>                            <div id=\"1acbb69c-eabd-4d0e-9c6b-995332c6f7b0\" class=\"plotly-graph-div\" style=\"height:400px; width:800px;\"></div>            <script type=\"text/javascript\">                require([\"plotly\"], function(Plotly) {                    window.PLOTLYENV=window.PLOTLYENV || {};                                    if (document.getElementById(\"1acbb69c-eabd-4d0e-9c6b-995332c6f7b0\")) {                    Plotly.newPlot(                        \"1acbb69c-eabd-4d0e-9c6b-995332c6f7b0\",                        [{\"alignmentgroup\":\"True\",\"bingroup\":\"x\",\"hovertemplate\":\"variable=unet<br>value=%{x}<br>count=%{y}<extra></extra>\",\"legendgroup\":\"unet\",\"marker\":{\"color\":\"#636efa\",\"pattern\":{\"shape\":\"\"}},\"name\":\"unet\",\"nbinsx\":200,\"offsetgroup\":\"unet\",\"orientation\":\"v\",\"showlegend\":true,\"x\":[0.9943767111146128,0.9995524208143148,0.9952504713017596,0.8450590400933866,0.9693110630647754,0.0174025870761846,0.9860281690663432,0.5869930573617975,0.9258036292015532,0.9922521394362116,0.4898351762410218,0.9978902709897652,0.999752759343087,0.9960995182400064,0.9391377662863244,0.7720642322799128,0.8183049860958417,0.9140103076232508,0.3554285533980965,0.972302915195277,1.0,0.8356064633949005,0.7236221689727139,0.7635530519589709,0.9636900251266304,0.9865550701443258,0.9863397954156886,0.771168103295378,0.7699016509812003,0.9879211431177036,0.9971404406137984,0.8521260952764629,0.3960924888424651,0.9355357717472916,0.8132190484696583,0.998371285265684,0.9317904874550884,0.8899808026327818,1.0,0.9934833441944264,0.8307491702228544,0.8802780296013086,0.999919237803666,0.0156709295667112,0.598094161074888,0.8940818229500553,0.8765835399348597,0.0209669359540268,0.9221118738562496,0.9983592307143556,0.950427944042462,0.9682816574001666,0.9708178007243398,0.9966261654546698,0.345364522526831,0.9837431486518204,0.6459306501817549,0.7837342187560326,1.0,0.993286352551834,0.905149018948582,0.7962803632953536,0.9818816931811136,0.9639059386209644,0.9999989268348174,0.9993292141512904,0.9998398483538868,0.5838431412701257,1.0,0.8077653298585484,0.9968994309543868,0.8261035292941412,0.7009032545304483,0.9999433038586084,0.9992417840033008,0.9810678538030856,0.9968675715447072,0.9939352097004472,0.9953213180675844,0.7734680684563302,0.4848264918258644,0.9984763856901232,0.9616444233203923,1.0,0.9999855322504224,0.98411104732578,0.8502777795374353,0.7399624223153635,0.6703870479763818,0.9917646124223084,0.9067914844399464,0.9906364039933568,0.944332056072542,0.9954954048771002,0.362268411693402,0.9402970003151764,0.4212461331648932,0.8803112185339855,0.9505913077911834,0.0966810377626375,0.4040604812948108,0.1668185322772832,0.9115613976810768,1.0,0.2350144384785453,0.8926750408199557,0.8761695081587609,0.982002252185574,0.8868966782959734,0.9695838815802504,0.97971410884835,0.6670389803272302],\"xaxis\":\"x\",\"yaxis\":\"y\",\"type\":\"histogram\"},{\"alignmentgroup\":\"True\",\"bingroup\":\"x\",\"hovertemplate\":\"variable=segformer<br>value=%{x}<br>count=%{y}<extra></extra>\",\"legendgroup\":\"segformer\",\"marker\":{\"color\":\"#EF553B\",\"pattern\":{\"shape\":\"\"}},\"name\":\"segformer\",\"nbinsx\":200,\"offsetgroup\":\"segformer\",\"orientation\":\"v\",\"showlegend\":true,\"x\":[0.999769111156486,0.9964653518072134,0.9894400561230732,0.8004076868586659,0.9812092880221416,0.0087631419491068,0.9843623964155036,0.0718017859348018,0.4439844750356825,0.995766479714473,0.629937524780423,0.9987923221289016,0.9969780855543549,0.9928632328999912,0.7576081836228213,0.9569301299507084,0.1239887279022919,0.9993686169971676,0.3560304224860875,0.8030003327977191,1.0,0.5835874058529897,0.4744331845212835,1.0,0.6792339595186766,0.934656971052846,0.6601488222282588,0.0182526130601262,0.951238183689618,0.9985768309669852,1.0,0.8505189312968627,0.5046089363121669,0.989226748802306,0.759092140317432,1.0,0.7987861016745014,0.3281440733872517,1.0,0.9892008115357692,0.8240328251896623,0.7513172768457576,1.0,0.0,0.473679056691642,0.9220012769793576,0.9746217597749915,0.011165898147236,0.7671930576720704,1.0,0.9999366187021578,0.5399731368008133,0.9905727937875806,0.9952552467437336,0.0141368995189944,1.0,0.7051023527542364,0.2209265317565552,0.9990909666022688,0.998303243953946,0.9279172802632124,0.9333817944920566,0.9860191815474708,1.0,1.0,1.0,1.0,0.331889775376636,1.0,0.9881977587212876,0.986838157347544,0.7277060330359509,0.988816982069051,1.0,0.9749715176461032,0.7607591609917332,1.0,0.9696465036975356,0.99567123578268,0.695978767088988,0.0562488360172445,0.9936181438353944,0.9367777170435256,0.9607413202600512,1.0,1.0,0.9343161146688744,0.4513743130289028,0.5203550845597431,0.9959115601238552,0.4198895815476896,0.9894668778756672,0.9275497186313528,1.0,0.2263879086610551,0.9860692630935924,0.0016816423312117,0.7537861245166863,0.7572528830080685,0.0,0.0001460950870309,0.3009628729023835,0.5189121187794874,1.0,0.0182511279483284,0.9886859772743604,0.1239028238929616,0.7658097333300331,0.848553330023018,0.8183586551864291,0.997319592386439,0.7685434641654825],\"xaxis\":\"x\",\"yaxis\":\"y\",\"type\":\"histogram\"}],                        {\"template\":{\"data\":{\"histogram2dcontour\":[{\"type\":\"histogram2dcontour\",\"colorbar\":{\"outlinewidth\":0,\"ticks\":\"\"},\"colorscale\":[[0.0,\"#0d0887\"],[0.1111111111111111,\"#46039f\"],[0.2222222222222222,\"#7201a8\"],[0.3333333333333333,\"#9c179e\"],[0.4444444444444444,\"#bd3786\"],[0.5555555555555556,\"#d8576b\"],[0.6666666666666666,\"#ed7953\"],[0.7777777777777778,\"#fb9f3a\"],[0.8888888888888888,\"#fdca26\"],[1.0,\"#f0f921\"]]}],\"choropleth\":[{\"type\":\"choropleth\",\"colorbar\":{\"outlinewidth\":0,\"ticks\":\"\"}}],\"histogram2d\":[{\"type\":\"histogram2d\",\"colorbar\":{\"outlinewidth\":0,\"ticks\":\"\"},\"colorscale\":[[0.0,\"#0d0887\"],[0.1111111111111111,\"#46039f\"],[0.2222222222222222,\"#7201a8\"],[0.3333333333333333,\"#9c179e\"],[0.4444444444444444,\"#bd3786\"],[0.5555555555555556,\"#d8576b\"],[0.6666666666666666,\"#ed7953\"],[0.7777777777777778,\"#fb9f3a\"],[0.8888888888888888,\"#fdca26\"],[1.0,\"#f0f921\"]]}],\"heatmap\":[{\"type\":\"heatmap\",\"colorbar\":{\"outlinewidth\":0,\"ticks\":\"\"},\"colorscale\":[[0.0,\"#0d0887\"],[0.1111111111111111,\"#46039f\"],[0.2222222222222222,\"#7201a8\"],[0.3333333333333333,\"#9c179e\"],[0.4444444444444444,\"#bd3786\"],[0.5555555555555556,\"#d8576b\"],[0.6666666666666666,\"#ed7953\"],[0.7777777777777778,\"#fb9f3a\"],[0.8888888888888888,\"#fdca26\"],[1.0,\"#f0f921\"]]}],\"heatmapgl\":[{\"type\":\"heatmapgl\",\"colorbar\":{\"outlinewidth\":0,\"ticks\":\"\"},\"colorscale\":[[0.0,\"#0d0887\"],[0.1111111111111111,\"#46039f\"],[0.2222222222222222,\"#7201a8\"],[0.3333333333333333,\"#9c179e\"],[0.4444444444444444,\"#bd3786\"],[0.5555555555555556,\"#d8576b\"],[0.6666666666666666,\"#ed7953\"],[0.7777777777777778,\"#fb9f3a\"],[0.8888888888888888,\"#fdca26\"],[1.0,\"#f0f921\"]]}],\"contourcarpet\":[{\"type\":\"contourcarpet\",\"colorbar\":{\"outlinewidth\":0,\"ticks\":\"\"}}],\"contour\":[{\"type\":\"contour\",\"colorbar\":{\"outlinewidth\":0,\"ticks\":\"\"},\"colorscale\":[[0.0,\"#0d0887\"],[0.1111111111111111,\"#46039f\"],[0.2222222222222222,\"#7201a8\"],[0.3333333333333333,\"#9c179e\"],[0.4444444444444444,\"#bd3786\"],[0.5555555555555556,\"#d8576b\"],[0.6666666666666666,\"#ed7953\"],[0.7777777777777778,\"#fb9f3a\"],[0.8888888888888888,\"#fdca26\"],[1.0,\"#f0f921\"]]}],\"surface\":[{\"type\":\"surface\",\"colorbar\":{\"outlinewidth\":0,\"ticks\":\"\"},\"colorscale\":[[0.0,\"#0d0887\"],[0.1111111111111111,\"#46039f\"],[0.2222222222222222,\"#7201a8\"],[0.3333333333333333,\"#9c179e\"],[0.4444444444444444,\"#bd3786\"],[0.5555555555555556,\"#d8576b\"],[0.6666666666666666,\"#ed7953\"],[0.7777777777777778,\"#fb9f3a\"],[0.8888888888888888,\"#fdca26\"],[1.0,\"#f0f921\"]]}],\"mesh3d\":[{\"type\":\"mesh3d\",\"colorbar\":{\"outlinewidth\":0,\"ticks\":\"\"}}],\"scatter\":[{\"fillpattern\":{\"fillmode\":\"overlay\",\"size\":10,\"solidity\":0.2},\"type\":\"scatter\"}],\"parcoords\":[{\"type\":\"parcoords\",\"line\":{\"colorbar\":{\"outlinewidth\":0,\"ticks\":\"\"}}}],\"scatterpolargl\":[{\"type\":\"scatterpolargl\",\"marker\":{\"colorbar\":{\"outlinewidth\":0,\"ticks\":\"\"}}}],\"bar\":[{\"error_x\":{\"color\":\"#2a3f5f\"},\"error_y\":{\"color\":\"#2a3f5f\"},\"marker\":{\"line\":{\"color\":\"#E5ECF6\",\"width\":0.5},\"pattern\":{\"fillmode\":\"overlay\",\"size\":10,\"solidity\":0.2}},\"type\":\"bar\"}],\"scattergeo\":[{\"type\":\"scattergeo\",\"marker\":{\"colorbar\":{\"outlinewidth\":0,\"ticks\":\"\"}}}],\"scatterpolar\":[{\"type\":\"scatterpolar\",\"marker\":{\"colorbar\":{\"outlinewidth\":0,\"ticks\":\"\"}}}],\"histogram\":[{\"marker\":{\"pattern\":{\"fillmode\":\"overlay\",\"size\":10,\"solidity\":0.2}},\"type\":\"histogram\"}],\"scattergl\":[{\"type\":\"scattergl\",\"marker\":{\"colorbar\":{\"outlinewidth\":0,\"ticks\":\"\"}}}],\"scatter3d\":[{\"type\":\"scatter3d\",\"line\":{\"colorbar\":{\"outlinewidth\":0,\"ticks\":\"\"}},\"marker\":{\"colorbar\":{\"outlinewidth\":0,\"ticks\":\"\"}}}],\"scattermapbox\":[{\"type\":\"scattermapbox\",\"marker\":{\"colorbar\":{\"outlinewidth\":0,\"ticks\":\"\"}}}],\"scatterternary\":[{\"type\":\"scatterternary\",\"marker\":{\"colorbar\":{\"outlinewidth\":0,\"ticks\":\"\"}}}],\"scattercarpet\":[{\"type\":\"scattercarpet\",\"marker\":{\"colorbar\":{\"outlinewidth\":0,\"ticks\":\"\"}}}],\"carpet\":[{\"aaxis\":{\"endlinecolor\":\"#2a3f5f\",\"gridcolor\":\"white\",\"linecolor\":\"white\",\"minorgridcolor\":\"white\",\"startlinecolor\":\"#2a3f5f\"},\"baxis\":{\"endlinecolor\":\"#2a3f5f\",\"gridcolor\":\"white\",\"linecolor\":\"white\",\"minorgridcolor\":\"white\",\"startlinecolor\":\"#2a3f5f\"},\"type\":\"carpet\"}],\"table\":[{\"cells\":{\"fill\":{\"color\":\"#EBF0F8\"},\"line\":{\"color\":\"white\"}},\"header\":{\"fill\":{\"color\":\"#C8D4E3\"},\"line\":{\"color\":\"white\"}},\"type\":\"table\"}],\"barpolar\":[{\"marker\":{\"line\":{\"color\":\"#E5ECF6\",\"width\":0.5},\"pattern\":{\"fillmode\":\"overlay\",\"size\":10,\"solidity\":0.2}},\"type\":\"barpolar\"}],\"pie\":[{\"automargin\":true,\"type\":\"pie\"}]},\"layout\":{\"autotypenumbers\":\"strict\",\"colorway\":[\"#636efa\",\"#EF553B\",\"#00cc96\",\"#ab63fa\",\"#FFA15A\",\"#19d3f3\",\"#FF6692\",\"#B6E880\",\"#FF97FF\",\"#FECB52\"],\"font\":{\"color\":\"#2a3f5f\"},\"hovermode\":\"closest\",\"hoverlabel\":{\"align\":\"left\"},\"paper_bgcolor\":\"white\",\"plot_bgcolor\":\"#E5ECF6\",\"polar\":{\"bgcolor\":\"#E5ECF6\",\"angularaxis\":{\"gridcolor\":\"white\",\"linecolor\":\"white\",\"ticks\":\"\"},\"radialaxis\":{\"gridcolor\":\"white\",\"linecolor\":\"white\",\"ticks\":\"\"}},\"ternary\":{\"bgcolor\":\"#E5ECF6\",\"aaxis\":{\"gridcolor\":\"white\",\"linecolor\":\"white\",\"ticks\":\"\"},\"baxis\":{\"gridcolor\":\"white\",\"linecolor\":\"white\",\"ticks\":\"\"},\"caxis\":{\"gridcolor\":\"white\",\"linecolor\":\"white\",\"ticks\":\"\"}},\"coloraxis\":{\"colorbar\":{\"outlinewidth\":0,\"ticks\":\"\"}},\"colorscale\":{\"sequential\":[[0.0,\"#0d0887\"],[0.1111111111111111,\"#46039f\"],[0.2222222222222222,\"#7201a8\"],[0.3333333333333333,\"#9c179e\"],[0.4444444444444444,\"#bd3786\"],[0.5555555555555556,\"#d8576b\"],[0.6666666666666666,\"#ed7953\"],[0.7777777777777778,\"#fb9f3a\"],[0.8888888888888888,\"#fdca26\"],[1.0,\"#f0f921\"]],\"sequentialminus\":[[0.0,\"#0d0887\"],[0.1111111111111111,\"#46039f\"],[0.2222222222222222,\"#7201a8\"],[0.3333333333333333,\"#9c179e\"],[0.4444444444444444,\"#bd3786\"],[0.5555555555555556,\"#d8576b\"],[0.6666666666666666,\"#ed7953\"],[0.7777777777777778,\"#fb9f3a\"],[0.8888888888888888,\"#fdca26\"],[1.0,\"#f0f921\"]],\"diverging\":[[0,\"#8e0152\"],[0.1,\"#c51b7d\"],[0.2,\"#de77ae\"],[0.3,\"#f1b6da\"],[0.4,\"#fde0ef\"],[0.5,\"#f7f7f7\"],[0.6,\"#e6f5d0\"],[0.7,\"#b8e186\"],[0.8,\"#7fbc41\"],[0.9,\"#4d9221\"],[1,\"#276419\"]]},\"xaxis\":{\"gridcolor\":\"white\",\"linecolor\":\"white\",\"ticks\":\"\",\"title\":{\"standoff\":15},\"zerolinecolor\":\"white\",\"automargin\":true,\"zerolinewidth\":2},\"yaxis\":{\"gridcolor\":\"white\",\"linecolor\":\"white\",\"ticks\":\"\",\"title\":{\"standoff\":15},\"zerolinecolor\":\"white\",\"automargin\":true,\"zerolinewidth\":2},\"scene\":{\"xaxis\":{\"backgroundcolor\":\"#E5ECF6\",\"gridcolor\":\"white\",\"linecolor\":\"white\",\"showbackground\":true,\"ticks\":\"\",\"zerolinecolor\":\"white\",\"gridwidth\":2},\"yaxis\":{\"backgroundcolor\":\"#E5ECF6\",\"gridcolor\":\"white\",\"linecolor\":\"white\",\"showbackground\":true,\"ticks\":\"\",\"zerolinecolor\":\"white\",\"gridwidth\":2},\"zaxis\":{\"backgroundcolor\":\"#E5ECF6\",\"gridcolor\":\"white\",\"linecolor\":\"white\",\"showbackground\":true,\"ticks\":\"\",\"zerolinecolor\":\"white\",\"gridwidth\":2}},\"shapedefaults\":{\"line\":{\"color\":\"#2a3f5f\"}},\"annotationdefaults\":{\"arrowcolor\":\"#2a3f5f\",\"arrowhead\":0,\"arrowwidth\":1},\"geo\":{\"bgcolor\":\"white\",\"landcolor\":\"#E5ECF6\",\"subunitcolor\":\"white\",\"showland\":true,\"showlakes\":true,\"lakecolor\":\"white\"},\"title\":{\"x\":0.05},\"mapbox\":{\"style\":\"light\"}}},\"xaxis\":{\"anchor\":\"y\",\"domain\":[0.0,1.0],\"title\":{\"text\":\"value\"}},\"yaxis\":{\"anchor\":\"x\",\"domain\":[0.0,1.0],\"title\":{\"text\":\"count\"}},\"legend\":{\"title\":{\"text\":\"variable\"},\"tracegroupgap\":0},\"title\":{\"text\":\"Histogram: malignant prediction consistency\"},\"barmode\":\"relative\",\"height\":400,\"width\":800},                        {\"responsive\": true}                    ).then(function(){\n",
       "                            \n",
       "var gd = document.getElementById('1acbb69c-eabd-4d0e-9c6b-995332c6f7b0');\n",
       "var x = new MutationObserver(function (mutations, observer) {{\n",
       "        var display = window.getComputedStyle(gd).display;\n",
       "        if (!display || display === 'none') {{\n",
       "            console.log([gd, 'removed!']);\n",
       "            Plotly.purge(gd);\n",
       "            observer.disconnect();\n",
       "        }}\n",
       "}});\n",
       "\n",
       "// Listen for the removal of the full notebook cells\n",
       "var notebookContainer = gd.closest('#notebook-container');\n",
       "if (notebookContainer) {{\n",
       "    x.observe(notebookContainer, {childList: true});\n",
       "}}\n",
       "\n",
       "// Listen for the clearing of the current output cell\n",
       "var outputEl = gd.closest('.output');\n",
       "if (outputEl) {{\n",
       "    x.observe(outputEl, {childList: true});\n",
       "}}\n",
       "\n",
       "                        })                };                });            </script>        </div>"
      ]
     },
     "metadata": {},
     "output_type": "display_data"
    }
   ],
   "source": [
    "px.histogram(\n",
    "    data_frame=perf_df[[\"unet\", \"segformer\"]][perf_df[\"class\"] == \"malignant\"],\n",
    "    barmode=\"relative\",\n",
    "    title=\"Histogram: malignant prediction consistency\",\n",
    "    nbins=200,\n",
    "    width=800,\n",
    "    height=400,\n",
    ")\n"
   ]
  },
  {
   "cell_type": "code",
   "execution_count": null,
   "metadata": {},
   "outputs": [],
   "source": []
  }
 ],
 "metadata": {
  "kernelspec": {
   "display_name": "Python 3.10.6 64-bit",
   "language": "python",
   "name": "python3"
  },
  "language_info": {
   "codemirror_mode": {
    "name": "ipython",
    "version": 3
   },
   "file_extension": ".py",
   "mimetype": "text/x-python",
   "name": "python",
   "nbconvert_exporter": "python",
   "pygments_lexer": "ipython3",
   "version": "3.10.6 (main, Nov 14 2022, 16:10:14) [GCC 11.3.0]"
  },
  "orig_nbformat": 4,
  "vscode": {
   "interpreter": {
    "hash": "916dbcbb3f70747c44a77c7bcd40155683ae19c65e1c03b4aa3499c5328201f1"
   }
  }
 },
 "nbformat": 4,
 "nbformat_minor": 2
}
